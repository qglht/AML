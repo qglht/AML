{
 "cells": [
  {
   "cell_type": "markdown",
   "id": "a96534f8",
   "metadata": {},
   "source": [
    "# Project 1 - Aurèle Bohbot, Quentin Guilhot, Yanis Tournier"
   ]
  },
  {
   "cell_type": "code",
   "execution_count": 125,
   "id": "e3410cc3",
   "metadata": {},
   "outputs": [],
   "source": [
    "import pandas as pd\n",
    "import numpy as np\n",
    "import matplotlib.pyplot as plt\n",
    "import sklearn as skl\n",
    "import plotly.express as px\n",
    "from numpy import where\n",
    "from sklearn.decomposition import PCA\n",
    "from sklearn.model_selection import train_test_split\n",
    "from sklearn.linear_model import LinearRegression, Ridge, RidgeCV, Lasso, LassoCV\n",
    "from sklearn.metrics import r2_score\n",
    "from collections import Counter\n",
    "from sklearn.feature_selection import SelectKBest, chi2, SelectFromModel, f_regression\n",
    "from sklearn.tree import ExtraTreeRegressor\n",
    "import math as m\n",
    "import seaborn as sns\n",
    "from scipy import stats\n",
    "from sklearn.ensemble import RandomForestRegressor, GradientBoostingRegressor,RandomForestClassifier, ExtraTreesRegressor, AdaBoostRegressor, VotingRegressor, HistGradientBoostingRegressor\n",
    "from sklearn.feature_selection import RFE\n",
    "from sklearn.svm import SVR, LinearSVC, SVC, LinearSVR\n",
    "from sklearn.covariance import EllipticEnvelope\n",
    "from sklearn.neighbors import LocalOutlierFactor\n",
    "from sklearn.preprocessing import MinMaxScaler, StandardScaler\n",
    "from sklearn.kernel_ridge import KernelRidge\n",
    "from sklearn.gaussian_process import GaussianProcessRegressor\n",
    "from sklearn.gaussian_process.kernels import DotProduct, WhiteKernel"
   ]
  },
  {
   "cell_type": "code",
   "execution_count": 126,
   "id": "bfbfee1e",
   "metadata": {},
   "outputs": [],
   "source": [
    "X = pd.read_csv('X_train.csv').drop(columns=['id'])\n",
    "Xt = pd.read_csv('X_test.csv')\n",
    "y = pd.read_csv('y_train.csv')\n",
    "to_drop = ['x104', 'x129', 'x489', 'x530']\n",
    "X = X.drop(columns=to_drop)\n",
    "y = y.drop(columns=['id'])"
   ]
  },
  {
   "cell_type": "code",
   "execution_count": 127,
   "id": "bcb8f5bc",
   "metadata": {},
   "outputs": [],
   "source": [
    "X_train, X_test, y_train, y_test = train_test_split(X, y, test_size=0.2, random_state=42)"
   ]
  },
  {
   "cell_type": "markdown",
   "id": "ad7ecdaf",
   "metadata": {},
   "source": [
    "### Handling outliers"
   ]
  },
  {
   "cell_type": "markdown",
   "id": "bf45e401",
   "metadata": {},
   "source": [
    "### Handling missing values "
   ]
  },
  {
   "cell_type": "markdown",
   "id": "826ba6c9",
   "metadata": {},
   "source": [
    "For the moment, we replace the missing values by the column's median. Depending on the results, we might implement a knn algorithm."
   ]
  },
  {
   "cell_type": "code",
   "execution_count": 128,
   "id": "0189f882",
   "metadata": {},
   "outputs": [],
   "source": [
    "y_test = y_test.fillna(y_test.median())\n",
    "y_train = y_train.fillna(y_train.median())\n",
    "X_test = X_test.fillna(X_test.median())\n",
    "\n",
    "X_train_filled = X_train.fillna(X_train.median())\n",
    "X_test_filled = X_test.fillna(X_train.median())\n",
    "\n",
    "## compute the ration of missing values ?\n"
   ]
  },
  {
   "cell_type": "code",
   "execution_count": 129,
   "id": "6e133414",
   "metadata": {},
   "outputs": [],
   "source": [
    "# scaler = MinMaxScaler()\n",
    "# scaler.fit(X_train_filled)\n",
    "# X_train_norm = scaler.transform(X_train_filled)\n",
    "# X_test_norm = scaler.transform(X_test_filled)"
   ]
  },
  {
   "cell_type": "code",
   "execution_count": 130,
   "id": "aef190b3",
   "metadata": {},
   "outputs": [],
   "source": [
    "scaler = StandardScaler()\n",
    "scaler.fit(X_train_filled)\n",
    "X_train_norm = scaler.transform(X_train_filled)\n",
    "X_test_norm = scaler.transform(X_test_filled)"
   ]
  },
  {
   "cell_type": "markdown",
   "id": "4cfe4871",
   "metadata": {},
   "source": [
    "### Handling feature selections"
   ]
  },
  {
   "cell_type": "code",
   "execution_count": 131,
   "id": "c94b05a8",
   "metadata": {},
   "outputs": [
    {
     "name": "stderr",
     "output_type": "stream",
     "text": [
      "/Users/yanistournier/opt/miniconda3/lib/python3.8/site-packages/sklearn/utils/validation.py:993: DataConversionWarning: A column-vector y was passed when a 1d array was expected. Please change the shape of y to (n_samples, ), for example using ravel().\n",
      "  y = column_or_1d(y, warn=True)\n"
     ]
    }
   ],
   "source": [
    "## Univariate feature selection with the highest variance\n",
    "select_feature = SelectKBest(f_regression, k=(160)).fit(X_train_norm, y_train)\n",
    "X_train_new = select_feature.transform(X_train_norm)\n",
    "X_test_new = select_feature.transform(X_test_norm)\n"
   ]
  },
  {
   "cell_type": "code",
   "execution_count": 247,
   "id": "8291533a",
   "metadata": {},
   "outputs": [],
   "source": [
    "## Feature selection with PCA\n",
    "\n",
    "pca = PCA(n_components=200)\n",
    "pca.fit(X_train_norm,y_train)\n",
    "X_train_pca = pca.transform(X_train_norm)\n",
    "X_test_pca= pca.transform(X_test_norm)"
   ]
  },
  {
   "cell_type": "markdown",
   "id": "8b2d7ff8",
   "metadata": {},
   "source": [
    "## Feature selection/ranking with recursive feature elimination\n",
    "\n",
    "\n",
    "clf_rf_4 = LinearRegression()\n",
    "rfecv = RFECV(estimator=clf_rf_4, step=1, cv=5,scoring='r2')   #5-fold cross-validation\n",
    "rfecv = rfecv.fit(X_train_norm, y_train)\n",
    "\n",
    "print('Optimal number of features :', rfecv.n_features_)\n",
    "print('Best features :', X_train_norm.columns[rfecv.support_])"
   ]
  },
  {
   "cell_type": "code",
   "execution_count": 109,
   "id": "f411ca13",
   "metadata": {},
   "outputs": [
    {
     "data": {
      "image/png": "[encoded data removed]",
      "text/plain": [
       "<Figure size 432x288 with 1 Axes>"
      ]
     },
     "metadata": {
      "needs_background": "light"
     },
     "output_type": "display_data"
    },
    {
     "name": "stdout",
     "output_type": "stream",
     "text": [
      "(97, 160) (969, 160)\n"
     ]
    },
    {
     "data": {
      "text/plain": [
       "(array([ 11,  15,  33,  42,  55,  56,  62,  74,  84,  91, 101, 116, 118,\n",
       "        119, 130, 142, 168, 183, 184, 199, 203, 219, 226, 233, 244, 250,\n",
       "        307, 319, 322, 332, 359, 395, 414, 419, 434, 442, 443, 446, 447,\n",
       "        452, 459, 477, 483, 492, 512, 515, 518, 537, 547, 555, 558, 566,\n",
       "        576, 582, 587, 591, 592, 595, 596, 604, 619, 620, 626, 631, 639,\n",
       "        658, 704, 715, 717, 718, 726, 729, 755, 774, 800, 805, 811, 819,\n",
       "        820, 821, 822, 827, 828, 836, 838, 842, 846, 867, 869, 886, 892,\n",
       "        903, 920, 949, 954, 956, 967]),)"
      ]
     },
     "execution_count": 109,
     "metadata": {},
     "output_type": "execute_result"
    }
   ],
   "source": [
    "## Outlier detection with multivariate technique: gaussian mixture model\n",
    "elenv = EllipticEnvelope(contamination=0.1)\n",
    "\n",
    "pred = elenv.fit_predict(X_train_new)\n",
    "anom_index=where(pred==-1)\n",
    "values_anom = X_train_new[anom_index]\n",
    "\n",
    "plt.scatter(X_train_new[:,0], X_train_new[:,1])\n",
    "plt.scatter(values_anom[:,0],values_anom[:,1], color='r')\n",
    "plt.show()\n",
    "print(values_anom.shape,X_train_new.shape)\n",
    "anom_index"
   ]
  },
  {
   "cell_type": "code",
   "execution_count": 132,
   "id": "7517c52c",
   "metadata": {},
   "outputs": [
    {
     "data": {
      "image/png": "[encoded data removed]",
      "text/plain": [
       "<Figure size 432x288 with 1 Axes>"
      ]
     },
     "metadata": {
      "needs_background": "light"
     },
     "output_type": "display_data"
    },
    {
     "name": "stdout",
     "output_type": "stream",
     "text": [
      "(33, 160) (969, 160)\n"
     ]
    },
    {
     "data": {
      "text/plain": [
       "(array([  9,  62,  84, 130, 142, 184, 199, 210, 322, 359, 442, 468, 483,\n",
       "        492, 512, 515, 518, 521, 537, 547, 558, 582, 620, 626, 728, 755,\n",
       "        819, 821, 828, 836, 892, 954, 956]),)"
      ]
     },
     "execution_count": 132,
     "metadata": {},
     "output_type": "execute_result"
    }
   ],
   "source": [
    "## Outlier detection with multivariate technique: LOF\n",
    "elenv = LocalOutlierFactor(n_neighbors=55)\n",
    "\n",
    "pred = elenv.fit_predict(X_train_new)\n",
    "anom_index=where(pred==-1)\n",
    "values_anom = X_train_new[anom_index]\n",
    "\n",
    "plt.scatter(X_train_new[:,0], X_train_new[:,1])\n",
    "plt.scatter(values_anom[:,0],values_anom[:,1], color='r')\n",
    "plt.show()\n",
    "print(values_anom.shape,X_train_new.shape)\n",
    "anom_index"
   ]
  },
  {
   "cell_type": "code",
   "execution_count": null,
   "id": "4e383585",
   "metadata": {},
   "outputs": [],
   "source": [
    "X_anom_dtf = pd.DataFrame(values_anom)\n",
    "sns.set()\n",
    "sns.pairplot(X_dtf, size = 2.5)\n",
    "sns.pairplot(X_anom_dtf, size = 2.5)\n",
    "plt.show();"
   ]
  },
  {
   "cell_type": "code",
   "execution_count": 133,
   "id": "02917bfa",
   "metadata": {},
   "outputs": [
    {
     "name": "stdout",
     "output_type": "stream",
     "text": [
      "(936, 160) (936, 1)\n"
     ]
    }
   ],
   "source": [
    "## What do you with outliers\n",
    "# 1/ just trying to drop them\n",
    "\n",
    "X_train_less_outliers = np.delete(X_train_new,anom_index, axis=0)\n",
    "Y_train_less_outliers = np.delete(y_train.values,anom_index, axis=0)\n",
    "print(X_train_less_outliers.shape,Y_train_less_outliers.shape)"
   ]
  },
  {
   "cell_type": "code",
   "execution_count": 348,
   "id": "4446a12f",
   "metadata": {},
   "outputs": [
    {
     "data": {
      "image/png": "[encoded data removed]",
      "text/plain": [
       "<Figure size 28800x28800 with 149 Axes>"
      ]
     },
     "metadata": {
      "needs_background": "light"
     },
     "output_type": "display_data"
    }
   ],
   "source": [
    "X_pd_final = pd.DataFrame(X_train_less_outliers)\n",
    "sns.pairplot(X_pd_final, size = 2.5)"
   ]
  },
  {
   "cell_type": "code",
   "execution_count": 134,
   "id": "7cb0d8c9",
   "metadata": {},
   "outputs": [
    {
     "data": {
      "text/plain": [
       "0.25715475502870444"
      ]
     },
     "execution_count": 134,
     "metadata": {},
     "output_type": "execute_result"
    }
   ],
   "source": [
    "model = LinearRegression()\n",
    "model.fit(X_train_new, y_train)\n",
    "y_pred = model.predict(X_test_new)\n",
    "y_pred.shape\n",
    "score = r2_score(y_test, y_pred)\n",
    "\n",
    "score"
   ]
  },
  {
   "cell_type": "code",
   "execution_count": 135,
   "id": "7cb0d8c9",
   "metadata": {},
   "outputs": [
    {
     "data": {
      "text/plain": [
       "0.3317717196628631"
      ]
     },
     "execution_count": 135,
     "metadata": {},
     "output_type": "execute_result"
    }
   ],
   "source": [
    "model = Ridge(alpha=1000)\n",
    "model.fit(X_train_less_outliers, Y_train_less_outliers)\n",
    "y_pred = model.predict(X_test_new)\n",
    "y_pred.shape\n",
    "score = r2_score(y_test, y_pred)\n",
    "score"
   ]
  },
  {
   "cell_type": "code",
   "execution_count": 162,
   "id": "c347f952",
   "metadata": {},
   "outputs": [
    {
     "name": "stderr",
     "output_type": "stream",
     "text": [
      "/Users/yanistournier/opt/miniconda3/lib/python3.8/site-packages/sklearn/utils/validation.py:993: DataConversionWarning: A column-vector y was passed when a 1d array was expected. Please change the shape of y to (n_samples, ), for example using ravel().\n",
      "  y = column_or_1d(y, warn=True)\n"
     ]
    },
    {
     "data": {
      "text/plain": [
       "0.6005771134539313"
      ]
     },
     "execution_count": 162,
     "metadata": {},
     "output_type": "execute_result"
    }
   ],
   "source": [
    "model = SVR(kernel='rbf', gamma=0.01, tol=0.001, C=1000, epsilon=0.01, shrinking=True, cache_size=2000, verbose=False, max_iter=-1)\n",
    "model.fit(X_train_less_outliers, Y_train_less_outliers)\n",
    "y_pred = model.predict(X_test_new)\n",
    "y_pred.shape\n",
    "score = r2_score(y_test, y_pred)\n",
    "score"
   ]
  },
  {
   "cell_type": "code",
   "execution_count": 164,
   "id": "b1cf518b",
   "metadata": {},
   "outputs": [
    {
     "name": "stderr",
     "output_type": "stream",
     "text": [
      "/Users/yanistournier/opt/miniconda3/lib/python3.8/site-packages/sklearn/ensemble/_gb.py:494: DataConversionWarning: A column-vector y was passed when a 1d array was expected. Please change the shape of y to (n_samples, ), for example using ravel().\n",
      "  y = column_or_1d(y, warn=True)\n"
     ]
    },
    {
     "data": {
      "text/plain": [
       "0.5776144810978687"
      ]
     },
     "execution_count": 164,
     "metadata": {},
     "output_type": "execute_result"
    }
   ],
   "source": [
    "model =GradientBoostingRegressor(loss='squared_error', learning_rate=0.1, n_estimators=100, subsample=1.0, criterion='friedman_mse', min_samples_split=2, min_samples_leaf=1, min_weight_fraction_leaf=0.0, max_depth=5, min_impurity_decrease=0.0, init=None, random_state=None, max_features=None, alpha=0.9, verbose=0, max_leaf_nodes=None, warm_start=False, validation_fraction=0.1, n_iter_no_change=None, tol=0.0001, ccp_alpha=0.0)\n",
    "model.fit(X_train_less_outliers, Y_train_less_outliers)\n",
    "y_pred = model.predict(X_test_new)\n",
    "y_pred.shape\n",
    "score = r2_score(y_test, y_pred)\n",
    "score"
   ]
  },
  {
   "cell_type": "code",
   "execution_count": 138,
   "id": "8c56bce0",
   "metadata": {},
   "outputs": [
    {
     "name": "stderr",
     "output_type": "stream",
     "text": [
      "/var/folders/xz/2x_7tl010yn5bqd9lf1tsr3m0000gn/T/ipykernel_4077/1356825632.py:2: DataConversionWarning: A column-vector y was passed when a 1d array was expected. Please change the shape of y to (n_samples,), for example using ravel().\n",
      "  model.fit(X_train_less_outliers, Y_train_less_outliers)\n"
     ]
    },
    {
     "data": {
      "text/plain": [
       "0.5479427630575967"
      ]
     },
     "execution_count": 138,
     "metadata": {},
     "output_type": "execute_result"
    }
   ],
   "source": [
    "model =ExtraTreesRegressor()\n",
    "model.fit(X_train_less_outliers, Y_train_less_outliers)\n",
    "y_pred = model.predict(X_test_new)\n",
    "y_pred.shape\n",
    "score = r2_score(y_test, y_pred)\n",
    "score"
   ]
  },
  {
   "cell_type": "code",
   "execution_count": 139,
   "id": "59681854",
   "metadata": {},
   "outputs": [
    {
     "name": "stderr",
     "output_type": "stream",
     "text": [
      "/var/folders/xz/2x_7tl010yn5bqd9lf1tsr3m0000gn/T/ipykernel_4077/529011428.py:4: DataConversionWarning: A column-vector y was passed when a 1d array was expected. Please change the shape of y to (n_samples,), for example using ravel().\n",
      "  regr.fit(X_train_new, y_train)\n"
     ]
    },
    {
     "data": {
      "text/plain": [
       "0.531726892703601"
      ]
     },
     "execution_count": 139,
     "metadata": {},
     "output_type": "execute_result"
    }
   ],
   "source": [
    "## RFD with normalized data\n",
    "\n",
    "regr = RandomForestRegressor(n_estimators=100, criterion='squared_error', max_depth=None, min_samples_split=2, min_samples_leaf=1, min_weight_fraction_leaf=0.0, max_features=1.0, max_leaf_nodes=None, min_impurity_decrease=0.0, bootstrap=True, oob_score=False, n_jobs=None, random_state=None, verbose=0, warm_start=False, ccp_alpha=0.0, max_samples=None)\n",
    "regr.fit(X_train_new, y_train)\n",
    "y_pred = regr.predict(X_test_new)\n",
    "score = r2_score(y_test, y_pred)\n",
    "score"
   ]
  },
  {
   "cell_type": "code",
   "execution_count": 11,
   "id": "0742c124",
   "metadata": {},
   "outputs": [
    {
     "name": "stderr",
     "output_type": "stream",
     "text": [
      "/var/folders/xz/2x_7tl010yn5bqd9lf1tsr3m0000gn/T/ipykernel_4077/1062692348.py:4: DataConversionWarning: A column-vector y was passed when a 1d array was expected. Please change the shape of y to (n_samples,), for example using ravel().\n",
      "  regr.fit(X_train_less_outliers, Y_train_less_outliers)\n"
     ]
    },
    {
     "data": {
      "text/plain": [
       "0.5505381937324338"
      ]
     },
     "execution_count": 11,
     "metadata": {},
     "output_type": "execute_result"
    }
   ],
   "source": [
    "## RFD with normalize data and without outliers\n",
    "\n",
    "regr = RandomForestRegressor(n_estimators=100, criterion='squared_error', max_depth=None, min_samples_split=4, min_samples_leaf=1, min_weight_fraction_leaf=0.0, max_features=1.0, max_leaf_nodes=None, min_impurity_decrease=0.0, bootstrap=True, oob_score=False, n_jobs=None, random_state=None, verbose=0, warm_start=False, ccp_alpha=0.0, max_samples=None)\n",
    "regr.fit(X_train_less_outliers, Y_train_less_outliers)\n",
    "y_pred = regr.predict(X_test_new)\n",
    "score = r2_score(y_test, y_pred)\n",
    "score\n"
   ]
  },
  {
   "cell_type": "code",
   "execution_count": 140,
   "id": "ffb2267c",
   "metadata": {},
   "outputs": [
    {
     "name": "stderr",
     "output_type": "stream",
     "text": [
      "/Users/yanistournier/opt/miniconda3/lib/python3.8/site-packages/sklearn/utils/validation.py:993: DataConversionWarning: A column-vector y was passed when a 1d array was expected. Please change the shape of y to (n_samples, ), for example using ravel().\n",
      "  y = column_or_1d(y, warn=True)\n"
     ]
    },
    {
     "data": {
      "text/plain": [
       "0.5532216373564021"
      ]
     },
     "execution_count": 140,
     "metadata": {},
     "output_type": "execute_result"
    }
   ],
   "source": [
    "regr = HistGradientBoostingRegressor(loss='squared_error', learning_rate=0.05, max_iter=1000, max_leaf_nodes=31, max_depth=None, min_samples_leaf=20, l2_regularization=0.0, max_bins=255, categorical_features=None, monotonic_cst=None, warm_start=False, early_stopping='auto', scoring='loss', validation_fraction=0.1, n_iter_no_change=10, tol=1e-07, verbose=0, random_state=None)\n",
    "regr.fit(X_train_less_outliers, Y_train_less_outliers)\n",
    "y_pred = regr.predict(X_test_new)\n",
    "score = r2_score(y_test, y_pred)\n",
    "score"
   ]
  },
  {
   "cell_type": "code",
   "execution_count": 145,
   "id": "44e7188d",
   "metadata": {},
   "outputs": [
    {
     "name": "stderr",
     "output_type": "stream",
     "text": [
      "/Users/yanistournier/opt/miniconda3/lib/python3.8/site-packages/sklearn/ensemble/_voting.py:528: DataConversionWarning: A column-vector y was passed when a 1d array was expected. Please change the shape of y to (n_samples, ), for example using ravel().\n",
      "  y = column_or_1d(y, warn=True)\n"
     ]
    },
    {
     "data": {
      "text/plain": [
       "0.618986646671503"
      ]
     },
     "execution_count": 145,
     "metadata": {},
     "output_type": "execute_result"
    }
   ],
   "source": [
    "r1 = GradientBoostingRegressor(loss='squared_error', learning_rate=0.1, n_estimators=100, subsample=1.0, criterion='friedman_mse', min_samples_split=2, min_samples_leaf=1, min_weight_fraction_leaf=0.0, max_depth=5, min_impurity_decrease=0.0, init=None, random_state=None, max_features=None, alpha=0.9, verbose=0, max_leaf_nodes=None, warm_start=False, validation_fraction=0.1, n_iter_no_change=None, tol=0.0001, ccp_alpha=0.0)\n",
    "r2 = SVR(kernel='rbf', degree=3, gamma='scale', coef0=0.0, tol=0.001, C=100, epsilon=0.1, shrinking=True, cache_size=2000, verbose=False, max_iter=-1)\n",
    "r3 = RandomForestRegressor(max_depth=20, random_state=0)\n",
    "r4 = ExtraTreesRegressor()\n",
    "r5 = HistGradientBoostingRegressor(loss='poisson', learning_rate=0.05, max_iter=1000, max_leaf_nodes=31, max_depth=None, min_samples_leaf=20, l2_regularization=0.0, max_bins=255, categorical_features=None, monotonic_cst=None, warm_start=False, early_stopping='auto', scoring='loss', validation_fraction=0.1, n_iter_no_change=10, tol=1e-07, verbose=0, random_state=None)\n",
    "regr = VotingRegressor([('lr', r1), ('rf', r2), ('r3', r3), ('abr', r4), ('HGB', r5)], weights=[1,2,0,0,0],n_jobs=None)\n",
    "regr.fit(X_train_less_outliers, Y_train_less_outliers)\n",
    "y_pred = regr.predict(X_test_new)\n",
    "score = r2_score(y_test, y_pred)\n",
    "score"
   ]
  },
  {
   "cell_type": "markdown",
   "id": "1053c953",
   "metadata": {},
   "source": [
    "-------------------------------------------------------------------------------------------------------------------------------------------------------------------------\n",
    "\n",
    "-------------------------------------------------------------------------------------------------------------------------------------------------------------------------"
   ]
  },
  {
   "cell_type": "code",
   "execution_count": 112,
   "id": "3aff2fc4",
   "metadata": {},
   "outputs": [],
   "source": [
    "## Final training for submit\n",
    "\n",
    "X = pd.read_csv('X_train.csv')\n",
    "Xt = pd.read_csv('X_test.csv')\n",
    "y = pd.read_csv('y_train.csv')\n",
    "to_drop = ['x104', 'x129', 'x489', 'x530', 'id']\n",
    "X_train_final = X.drop(columns=to_drop)\n",
    "X_test_final = Xt.drop(columns=to_drop)\n",
    "y_train_final = y.drop(columns=['id']) "
   ]
  },
  {
   "cell_type": "code",
   "execution_count": 113,
   "id": "360a264e",
   "metadata": {},
   "outputs": [
    {
     "name": "stdout",
     "output_type": "stream",
     "text": [
      "(1212, 828) (776, 828)\n"
     ]
    }
   ],
   "source": [
    "y_train = y_train_final.fillna(y_train_final.median())\n",
    "X_train_filled = X_train_final.fillna(X_train_final.median())\n",
    "X_test_filled = X_test_final.fillna(X_test_final.median())\n",
    "\n",
    "scaler = StandardScaler()\n",
    "scaler.fit(X_train_filled)\n",
    "X_train_norm = scaler.transform(X_train_filled)\n",
    "X_test_norm = scaler.transform(X_test_filled)\n",
    "print(X_train_norm.shape,X_test_norm.shape)"
   ]
  },
  {
   "cell_type": "code",
   "execution_count": 114,
   "id": "4da31863",
   "metadata": {},
   "outputs": [
    {
     "name": "stdout",
     "output_type": "stream",
     "text": [
      "(1212, 160) (776, 160)\n"
     ]
    },
    {
     "name": "stderr",
     "output_type": "stream",
     "text": [
      "/Users/yanistournier/opt/miniconda3/lib/python3.8/site-packages/sklearn/utils/validation.py:993: DataConversionWarning: A column-vector y was passed when a 1d array was expected. Please change the shape of y to (n_samples, ), for example using ravel().\n",
      "  y = column_or_1d(y, warn=True)\n"
     ]
    }
   ],
   "source": [
    "select_feature = SelectKBest(f_regression, k=(160)).fit(X_train_norm, y_train)\n",
    "X_train_new = select_feature.transform(X_train_norm)\n",
    "X_test_new = select_feature.transform(X_test_norm)\n",
    "print(X_train_new.shape,X_test_new.shape)"
   ]
  },
  {
   "cell_type": "code",
   "execution_count": 115,
   "id": "c0d08bdd",
   "metadata": {},
   "outputs": [
    {
     "data": {
      "image/png": "[encoded data removed]",
      "text/plain": [
       "<Figure size 432x288 with 1 Axes>"
      ]
     },
     "metadata": {
      "needs_background": "light"
     },
     "output_type": "display_data"
    },
    {
     "name": "stdout",
     "output_type": "stream",
     "text": [
      "(122, 160) (1212, 160)\n",
      "(1090, 160) (1090, 1)\n"
     ]
    }
   ],
   "source": [
    "## Outlier detection with multivariate technique: gaussian mixture model\n",
    "elenv = LocalOutlierFactor(n_neighbors=55)\n",
    "\n",
    "pred = elenv.fit_predict(X_train_new)\n",
    "anom_index=where(pred==-1)\n",
    "values_anom = X_train_new[anom_index]\n",
    "\n",
    "plt.scatter(X_train_new[:,0], X_train_new[:,1])\n",
    "plt.scatter(values_anom[:,0],values_anom[:,1], color='r')\n",
    "plt.show()\n",
    "print(values_anom.shape,X_train_new.shape)\n",
    "X_train_less_outliers = np.delete(X_train_new,anom_index, axis=0)\n",
    "Y_train_less_outliers = np.delete(y_train.values,anom_index, axis=0)\n",
    "print(X_train_less_outliers.shape,Y_train_less_outliers.shape)"
   ]
  },
  {
   "cell_type": "code",
   "execution_count": 188,
   "id": "bffc5554",
   "metadata": {},
   "outputs": [
    {
     "name": "stderr",
     "output_type": "stream",
     "text": [
      "/Users/yanistournier/opt/miniconda3/lib/python3.8/site-packages/sklearn/ensemble/_voting.py:528: DataConversionWarning: A column-vector y was passed when a 1d array was expected. Please change the shape of y to (n_samples, ), for example using ravel().\n",
      "  y = column_or_1d(y, warn=True)\n"
     ]
    }
   ],
   "source": [
    "r1 = GradientBoostingRegressor(random_state=0)\n",
    "r2 = SVR(kernel='rbf', degree=3, gamma='scale', coef0=0.0, tol=0.001, C=100, epsilon=0.1, shrinking=True, cache_size=2000, verbose=False, max_iter=-1)\n",
    "r3 = RandomForestRegressor(max_depth=20, random_state=0)\n",
    "r4 = ExtraTreesRegressor()\n",
    "regr = VotingRegressor([('lr', r1), ('rf', r2), ('r3', r3), ('abr', r4)], weights=[2,3,1,1],n_jobs=None)\n",
    "regr.fit(X_train_less_outliers, Y_train_less_outliers)\n",
    "y_pred = regr.predict(X_test_new)\n"
   ]
  },
  {
   "cell_type": "code",
   "execution_count": 116,
   "id": "932ef49b",
   "metadata": {},
   "outputs": [
    {
     "name": "stderr",
     "output_type": "stream",
     "text": [
      "/Users/yanistournier/opt/miniconda3/lib/python3.8/site-packages/sklearn/utils/validation.py:993: DataConversionWarning: A column-vector y was passed when a 1d array was expected. Please change the shape of y to (n_samples, ), for example using ravel().\n",
      "  y = column_or_1d(y, warn=True)\n"
     ]
    }
   ],
   "source": [
    "model = SVR(kernel='rbf', gamma=0.01, tol=0.001, C=100, epsilon=0.1, shrinking=True, cache_size=2000, verbose=False, max_iter=-1)\n",
    "model.fit(X_train_less_outliers, Y_train_less_outliers)\n",
    "y_pred = model.predict(X_test_new)"
   ]
  },
  {
   "cell_type": "code",
   "execution_count": 117,
   "id": "4072fcae",
   "metadata": {},
   "outputs": [
    {
     "data": {
      "text/plain": [
       "(776,)"
      ]
     },
     "execution_count": 117,
     "metadata": {},
     "output_type": "execute_result"
    }
   ],
   "source": [
    "y_pred.shape"
   ]
  },
  {
   "cell_type": "code",
   "execution_count": 118,
   "id": "77323512",
   "metadata": {},
   "outputs": [],
   "source": [
    "pd.DataFrame({'id': [float(i) for i in range(y_pred.size)], 'y': y_pred}).to_csv('Prediction.csv')"
   ]
  },
  {
   "cell_type": "markdown",
   "id": "e44d2997",
   "metadata": {},
   "source": [
    " "
   ]
  }
 ],
 "metadata": {
  "kernelspec": {
   "display_name": "Python 3.8.12 ('base')",
   "language": "python",
   "name": "python3"
  },
  "language_info": {
   "codemirror_mode": {
    "name": "ipython",
    "version": 3
   },
   "file_extension": ".py",
   "mimetype": "text/x-python",
   "name": "python",
   "nbconvert_exporter": "python",
   "pygments_lexer": "ipython3",
   "version": "3.8.12"
  },
  "vscode": {
   "interpreter": {
    "hash": "717f860013a93b0556820594c0b63bb2304a4642c6a3adb947019f42cb26b7bb"
   }
  }
 },
 "nbformat": 4,
 "nbformat_minor": 5
}
