{
 "cells": [
  {
   "cell_type": "markdown",
   "id": "a96534f8",
   "metadata": {},
   "source": [
    "# Project 1 - Aurèle Bohbot, Quentin Guilhot, Yanis Tournier"
   ]
  },
  {
   "cell_type": "code",
   "execution_count": 201,
   "id": "e3410cc3",
   "metadata": {},
   "outputs": [],
   "source": [
    "import pandas as pd\n",
    "import numpy as np\n",
    "import matplotlib.pyplot as plt\n",
    "import sklearn as skl\n",
    "import plotly.express as px\n",
    "from numpy import where\n",
    "from sklearn.decomposition import PCA\n",
    "from sklearn.model_selection import train_test_split\n",
    "from sklearn.linear_model import LinearRegression, Ridge, Lasso, LassoCV\n",
    "from sklearn.metrics import r2_score\n",
    "from collections import Counter\n",
    "from sklearn.feature_selection import SelectKBest, chi2\n",
    "from sklearn.feature_selection import f_regression\n",
    "from sklearn.tree import ExtraTreeRegressor\n",
    "import math as m\n",
    "import seaborn as sns\n",
    "from scipy import stats\n",
    "from sklearn.ensemble import RandomForestRegressor\n",
    "from sklearn.feature_selection import RFE\n",
    "from sklearn.ensemble import RandomForestClassifier\n",
    "from sklearn.svm import SVR\n",
    "from sklearn.covariance import EllipticEnvelope"
   ]
  },
  {
   "cell_type": "code",
   "execution_count": 156,
   "id": "bfbfee1e",
   "metadata": {},
   "outputs": [],
   "source": [
    "X = pd.read_csv('X_train.csv').drop(columns=['id'])\n",
    "Xt = pd.read_csv('X_test.csv')\n",
    "y = pd.read_csv('y_train.csv')\n",
    "to_drop = ['x104', 'x129', 'x489', 'x530']\n",
    "X = X.drop(columns=to_drop)\n",
    "y = y.drop(columns=['id'])"
   ]
  },
  {
   "cell_type": "code",
   "execution_count": 157,
   "id": "bcb8f5bc",
   "metadata": {},
   "outputs": [],
   "source": [
    "X_train, X_test, y_train, y_test = train_test_split(X, y, test_size=0.2, random_state=42)"
   ]
  },
  {
   "cell_type": "code",
   "execution_count": 158,
   "id": "f1727c9b",
   "metadata": {},
   "outputs": [
    {
     "name": "stdout",
     "output_type": "stream",
     "text": [
      "<class 'pandas.core.frame.DataFrame'>\n",
      "Int64Index: 969 entries, 806 to 1126\n",
      "Columns: 828 entries, x0 to x831\n",
      "dtypes: float64(828)\n",
      "memory usage: 6.1 MB\n",
      "None\n"
     ]
    },
    {
     "data": {
      "text/html": [
       "<div>\n",
       "<style scoped>\n",
       "    .dataframe tbody tr th:only-of-type {\n",
       "        vertical-align: middle;\n",
       "    }\n",
       "\n",
       "    .dataframe tbody tr th {\n",
       "        vertical-align: top;\n",
       "    }\n",
       "\n",
       "    .dataframe thead th {\n",
       "        text-align: right;\n",
       "    }\n",
       "</style>\n",
       "<table border=\"1\" class=\"dataframe\">\n",
       "  <thead>\n",
       "    <tr style=\"text-align: right;\">\n",
       "      <th></th>\n",
       "      <th>x0</th>\n",
       "      <th>x1</th>\n",
       "      <th>x2</th>\n",
       "      <th>x3</th>\n",
       "      <th>x4</th>\n",
       "      <th>x5</th>\n",
       "      <th>x6</th>\n",
       "      <th>x7</th>\n",
       "      <th>x8</th>\n",
       "      <th>x9</th>\n",
       "      <th>...</th>\n",
       "      <th>x822</th>\n",
       "      <th>x823</th>\n",
       "      <th>x824</th>\n",
       "      <th>x825</th>\n",
       "      <th>x826</th>\n",
       "      <th>x827</th>\n",
       "      <th>x828</th>\n",
       "      <th>x829</th>\n",
       "      <th>x830</th>\n",
       "      <th>x831</th>\n",
       "    </tr>\n",
       "  </thead>\n",
       "  <tbody>\n",
       "    <tr>\n",
       "      <th>516</th>\n",
       "      <td>17491.883896</td>\n",
       "      <td>11814.566421</td>\n",
       "      <td>3963.668795</td>\n",
       "      <td>112425.428257</td>\n",
       "      <td>107.775865</td>\n",
       "      <td>88.847406</td>\n",
       "      <td>11811.014207</td>\n",
       "      <td>10854.945186</td>\n",
       "      <td>NaN</td>\n",
       "      <td>9.488575</td>\n",
       "      <td>...</td>\n",
       "      <td>NaN</td>\n",
       "      <td>15246.001490</td>\n",
       "      <td>767.001978</td>\n",
       "      <td>109.832288</td>\n",
       "      <td>106.499789</td>\n",
       "      <td>2313.057699</td>\n",
       "      <td>2.494429</td>\n",
       "      <td>1531.420265</td>\n",
       "      <td>1055.198322</td>\n",
       "      <td>10699.298875</td>\n",
       "    </tr>\n",
       "    <tr>\n",
       "      <th>133</th>\n",
       "      <td>13442.854883</td>\n",
       "      <td>9357.072928</td>\n",
       "      <td>3240.367202</td>\n",
       "      <td>98474.212219</td>\n",
       "      <td>107.177830</td>\n",
       "      <td>93.746738</td>\n",
       "      <td>10681.657500</td>\n",
       "      <td>10603.795925</td>\n",
       "      <td>10705.66276</td>\n",
       "      <td>9.665457</td>\n",
       "      <td>...</td>\n",
       "      <td>10935.261027</td>\n",
       "      <td>12932.078655</td>\n",
       "      <td>943.092938</td>\n",
       "      <td>109.936436</td>\n",
       "      <td>107.697235</td>\n",
       "      <td>2364.022402</td>\n",
       "      <td>2.931867</td>\n",
       "      <td>1380.253912</td>\n",
       "      <td>1016.360059</td>\n",
       "      <td>9791.547794</td>\n",
       "    </tr>\n",
       "    <tr>\n",
       "      <th>755</th>\n",
       "      <td>16787.376593</td>\n",
       "      <td>11570.558424</td>\n",
       "      <td>3062.042205</td>\n",
       "      <td>99216.564689</td>\n",
       "      <td>105.141292</td>\n",
       "      <td>100.484866</td>\n",
       "      <td>9587.894395</td>\n",
       "      <td>10289.330659</td>\n",
       "      <td>10676.59887</td>\n",
       "      <td>9.567970</td>\n",
       "      <td>...</td>\n",
       "      <td>10969.551579</td>\n",
       "      <td>12255.027270</td>\n",
       "      <td>564.087996</td>\n",
       "      <td>108.795606</td>\n",
       "      <td>102.125508</td>\n",
       "      <td>2338.014409</td>\n",
       "      <td>2.499915</td>\n",
       "      <td>1249.915595</td>\n",
       "      <td>1096.234371</td>\n",
       "      <td>10806.054658</td>\n",
       "    </tr>\n",
       "  </tbody>\n",
       "</table>\n",
       "<p>3 rows × 828 columns</p>\n",
       "</div>"
      ],
      "text/plain": [
       "               x0            x1           x2             x3          x4  \\\n",
       "516  17491.883896  11814.566421  3963.668795  112425.428257  107.775865   \n",
       "133  13442.854883   9357.072928  3240.367202   98474.212219  107.177830   \n",
       "755  16787.376593  11570.558424  3062.042205   99216.564689  105.141292   \n",
       "\n",
       "             x5            x6            x7           x8        x9  ...  \\\n",
       "516   88.847406  11811.014207  10854.945186          NaN  9.488575  ...   \n",
       "133   93.746738  10681.657500  10603.795925  10705.66276  9.665457  ...   \n",
       "755  100.484866   9587.894395  10289.330659  10676.59887  9.567970  ...   \n",
       "\n",
       "             x822          x823        x824        x825        x826  \\\n",
       "516           NaN  15246.001490  767.001978  109.832288  106.499789   \n",
       "133  10935.261027  12932.078655  943.092938  109.936436  107.697235   \n",
       "755  10969.551579  12255.027270  564.087996  108.795606  102.125508   \n",
       "\n",
       "            x827      x828         x829         x830          x831  \n",
       "516  2313.057699  2.494429  1531.420265  1055.198322  10699.298875  \n",
       "133  2364.022402  2.931867  1380.253912  1016.360059   9791.547794  \n",
       "755  2338.014409  2.499915  1249.915595  1096.234371  10806.054658  \n",
       "\n",
       "[3 rows x 828 columns]"
      ]
     },
     "execution_count": 158,
     "metadata": {},
     "output_type": "execute_result"
    }
   ],
   "source": [
    "print(X_train.info())\n",
    "X_train.sample(3)"
   ]
  },
  {
   "cell_type": "markdown",
   "id": "ad7ecdaf",
   "metadata": {},
   "source": [
    "### Handling outliers"
   ]
  },
  {
   "cell_type": "code",
   "execution_count": 122,
   "id": "b5282fa5",
   "metadata": {},
   "outputs": [],
   "source": [
    "def detection(df,features):\n",
    "    outlier_indices=[]\n",
    "    \n",
    "    for c in features:\n",
    "        Q1, Q3 = np.percentile(df[c],25), np.percentile(df[c],75)\n",
    "        \n",
    "        #IQR calculation\n",
    "        IQR = Q3 - Q1\n",
    "        outlier_step = IQR * 1.5\n",
    "        lower_range = Q1 - (outlier_step)\n",
    "        upper_range = Q3 + (outlier_step)\n",
    "        \n",
    "        #Outlier detection                                    #Outlier indexes\n",
    "        outlier_list_col=df[  (df[c] < lower_range) | (df[c] > upper_range)  ].index\n",
    "        \n",
    "        #Store indexes\n",
    "        outlier_indices.extend(outlier_list_col)\n",
    "        \n",
    "    outlier_indices=Counter(outlier_indices)\n",
    "    # number of outliers\n",
    "    # If we have more then 2 outliers in a sample, this sample ll be drop\n",
    "    multiple_outliers = list(i for i, v in outlier_indices.items() if v > 2 )\n",
    "    #we are taking indexes\n",
    "    \n",
    "    return multiple_outliers"
   ]
  },
  {
   "cell_type": "code",
   "execution_count": 123,
   "id": "e45b7904",
   "metadata": {},
   "outputs": [
    {
     "data": {
      "text/plain": [
       "(969, 828)"
      ]
     },
     "execution_count": 123,
     "metadata": {},
     "output_type": "execute_result"
    }
   ],
   "source": [
    "outliers = detection(X_train, X_train.columns)\n",
    "X_train=X_train.drop(outliers,axis=0).reset_index(drop = True)\n",
    "X_train.shape"
   ]
  },
  {
   "cell_type": "markdown",
   "id": "bf45e401",
   "metadata": {},
   "source": [
    "### Handling missing values "
   ]
  },
  {
   "cell_type": "markdown",
   "id": "826ba6c9",
   "metadata": {},
   "source": [
    "For the moment, we replace the missing values by the column's median. Depending on the results, we might implement a knn algorithm."
   ]
  },
  {
   "cell_type": "code",
   "execution_count": 159,
   "id": "0189f882",
   "metadata": {},
   "outputs": [],
   "source": [
    "y_test = y_test.fillna(y_test.median())\n",
    "y_train = y_train.fillna(y_train.median())\n",
    "X_test = X_test.fillna(X_test.median())\n",
    "\n",
    "X_train_filled = X_train.fillna(X_train.median())\n",
    "X_test_filled = X_test.fillna(X_train.median())\n"
   ]
  },
  {
   "cell_type": "code",
   "execution_count": 160,
   "id": "4eb54902",
   "metadata": {},
   "outputs": [
    {
     "data": {
      "text/html": [
       "<div>\n",
       "<style scoped>\n",
       "    .dataframe tbody tr th:only-of-type {\n",
       "        vertical-align: middle;\n",
       "    }\n",
       "\n",
       "    .dataframe tbody tr th {\n",
       "        vertical-align: top;\n",
       "    }\n",
       "\n",
       "    .dataframe thead th {\n",
       "        text-align: right;\n",
       "    }\n",
       "</style>\n",
       "<table border=\"1\" class=\"dataframe\">\n",
       "  <thead>\n",
       "    <tr style=\"text-align: right;\">\n",
       "      <th></th>\n",
       "      <th>x0</th>\n",
       "      <th>x1</th>\n",
       "      <th>x2</th>\n",
       "      <th>x3</th>\n",
       "      <th>x4</th>\n",
       "      <th>x5</th>\n",
       "      <th>x6</th>\n",
       "      <th>x7</th>\n",
       "      <th>x8</th>\n",
       "      <th>x9</th>\n",
       "      <th>...</th>\n",
       "      <th>x822</th>\n",
       "      <th>x823</th>\n",
       "      <th>x824</th>\n",
       "      <th>x825</th>\n",
       "      <th>x826</th>\n",
       "      <th>x827</th>\n",
       "      <th>x828</th>\n",
       "      <th>x829</th>\n",
       "      <th>x830</th>\n",
       "      <th>x831</th>\n",
       "    </tr>\n",
       "  </thead>\n",
       "  <tbody>\n",
       "    <tr>\n",
       "      <th>801</th>\n",
       "      <td>1.359533</td>\n",
       "      <td>0.459014</td>\n",
       "      <td>0.339587</td>\n",
       "      <td>-0.194593</td>\n",
       "      <td>0.783548</td>\n",
       "      <td>1.033031</td>\n",
       "      <td>-0.054079</td>\n",
       "      <td>1.386708</td>\n",
       "      <td>1.419838</td>\n",
       "      <td>0.316343</td>\n",
       "      <td>...</td>\n",
       "      <td>-0.934455</td>\n",
       "      <td>0.730277</td>\n",
       "      <td>-0.743350</td>\n",
       "      <td>-0.342046</td>\n",
       "      <td>0.945600</td>\n",
       "      <td>2.282991</td>\n",
       "      <td>-0.528466</td>\n",
       "      <td>-0.454877</td>\n",
       "      <td>1.485537</td>\n",
       "      <td>0.002413</td>\n",
       "    </tr>\n",
       "    <tr>\n",
       "      <th>677</th>\n",
       "      <td>-0.148333</td>\n",
       "      <td>-0.131357</td>\n",
       "      <td>0.665774</td>\n",
       "      <td>-1.069432</td>\n",
       "      <td>1.133581</td>\n",
       "      <td>1.811608</td>\n",
       "      <td>0.950913</td>\n",
       "      <td>-0.900671</td>\n",
       "      <td>0.422283</td>\n",
       "      <td>1.354028</td>\n",
       "      <td>...</td>\n",
       "      <td>0.814070</td>\n",
       "      <td>0.308782</td>\n",
       "      <td>-1.341874</td>\n",
       "      <td>-0.674404</td>\n",
       "      <td>-1.406581</td>\n",
       "      <td>0.312330</td>\n",
       "      <td>-0.009769</td>\n",
       "      <td>-0.046611</td>\n",
       "      <td>-1.079061</td>\n",
       "      <td>0.862273</td>\n",
       "    </tr>\n",
       "    <tr>\n",
       "      <th>43</th>\n",
       "      <td>-0.273613</td>\n",
       "      <td>1.601598</td>\n",
       "      <td>-0.809951</td>\n",
       "      <td>-0.010533</td>\n",
       "      <td>1.514877</td>\n",
       "      <td>-0.005275</td>\n",
       "      <td>0.570904</td>\n",
       "      <td>-1.385937</td>\n",
       "      <td>-0.046404</td>\n",
       "      <td>1.062219</td>\n",
       "      <td>...</td>\n",
       "      <td>-0.981165</td>\n",
       "      <td>-1.688710</td>\n",
       "      <td>-0.667807</td>\n",
       "      <td>-0.614756</td>\n",
       "      <td>1.109218</td>\n",
       "      <td>-1.782454</td>\n",
       "      <td>-1.193961</td>\n",
       "      <td>-0.025684</td>\n",
       "      <td>1.427604</td>\n",
       "      <td>-0.876229</td>\n",
       "    </tr>\n",
       "    <tr>\n",
       "      <th>990</th>\n",
       "      <td>-0.460091</td>\n",
       "      <td>-0.217644</td>\n",
       "      <td>1.313331</td>\n",
       "      <td>-0.918573</td>\n",
       "      <td>-1.276381</td>\n",
       "      <td>-0.005275</td>\n",
       "      <td>1.370343</td>\n",
       "      <td>-0.108825</td>\n",
       "      <td>-1.728645</td>\n",
       "      <td>1.053114</td>\n",
       "      <td>...</td>\n",
       "      <td>-0.613586</td>\n",
       "      <td>-0.933824</td>\n",
       "      <td>-0.006646</td>\n",
       "      <td>-1.377137</td>\n",
       "      <td>-0.105661</td>\n",
       "      <td>-0.598885</td>\n",
       "      <td>-0.130783</td>\n",
       "      <td>-0.327974</td>\n",
       "      <td>-0.211967</td>\n",
       "      <td>0.720824</td>\n",
       "    </tr>\n",
       "    <tr>\n",
       "      <th>70</th>\n",
       "      <td>1.030626</td>\n",
       "      <td>0.945782</td>\n",
       "      <td>1.528852</td>\n",
       "      <td>-0.120766</td>\n",
       "      <td>0.578191</td>\n",
       "      <td>-0.378145</td>\n",
       "      <td>-1.452431</td>\n",
       "      <td>-1.100144</td>\n",
       "      <td>1.654622</td>\n",
       "      <td>1.029604</td>\n",
       "      <td>...</td>\n",
       "      <td>-0.005430</td>\n",
       "      <td>1.462694</td>\n",
       "      <td>0.068921</td>\n",
       "      <td>0.723125</td>\n",
       "      <td>0.204150</td>\n",
       "      <td>0.737810</td>\n",
       "      <td>-0.130783</td>\n",
       "      <td>1.392817</td>\n",
       "      <td>1.441607</td>\n",
       "      <td>-1.205046</td>\n",
       "    </tr>\n",
       "    <tr>\n",
       "      <th>...</th>\n",
       "      <td>...</td>\n",
       "      <td>...</td>\n",
       "      <td>...</td>\n",
       "      <td>...</td>\n",
       "      <td>...</td>\n",
       "      <td>...</td>\n",
       "      <td>...</td>\n",
       "      <td>...</td>\n",
       "      <td>...</td>\n",
       "      <td>...</td>\n",
       "      <td>...</td>\n",
       "      <td>...</td>\n",
       "      <td>...</td>\n",
       "      <td>...</td>\n",
       "      <td>...</td>\n",
       "      <td>...</td>\n",
       "      <td>...</td>\n",
       "      <td>...</td>\n",
       "      <td>...</td>\n",
       "      <td>...</td>\n",
       "      <td>...</td>\n",
       "    </tr>\n",
       "    <tr>\n",
       "      <th>904</th>\n",
       "      <td>0.580896</td>\n",
       "      <td>-0.131357</td>\n",
       "      <td>0.217757</td>\n",
       "      <td>1.232651</td>\n",
       "      <td>-0.875616</td>\n",
       "      <td>-1.445223</td>\n",
       "      <td>0.171942</td>\n",
       "      <td>-0.095679</td>\n",
       "      <td>0.781302</td>\n",
       "      <td>-0.980250</td>\n",
       "      <td>...</td>\n",
       "      <td>-0.327102</td>\n",
       "      <td>-0.357407</td>\n",
       "      <td>0.427206</td>\n",
       "      <td>0.614293</td>\n",
       "      <td>-0.341914</td>\n",
       "      <td>-0.010265</td>\n",
       "      <td>1.006951</td>\n",
       "      <td>0.285387</td>\n",
       "      <td>1.646663</td>\n",
       "      <td>-0.164958</td>\n",
       "    </tr>\n",
       "    <tr>\n",
       "      <th>673</th>\n",
       "      <td>-0.148333</td>\n",
       "      <td>0.154172</td>\n",
       "      <td>-1.454732</td>\n",
       "      <td>-1.482054</td>\n",
       "      <td>-0.343430</td>\n",
       "      <td>-0.449199</td>\n",
       "      <td>1.558752</td>\n",
       "      <td>1.457223</td>\n",
       "      <td>1.489332</td>\n",
       "      <td>0.686624</td>\n",
       "      <td>...</td>\n",
       "      <td>0.631523</td>\n",
       "      <td>0.309821</td>\n",
       "      <td>1.032625</td>\n",
       "      <td>-1.221606</td>\n",
       "      <td>0.337297</td>\n",
       "      <td>-0.754033</td>\n",
       "      <td>0.459332</td>\n",
       "      <td>0.915614</td>\n",
       "      <td>1.020814</td>\n",
       "      <td>0.323661</td>\n",
       "    </tr>\n",
       "    <tr>\n",
       "      <th>708</th>\n",
       "      <td>0.715143</td>\n",
       "      <td>-0.272410</td>\n",
       "      <td>2.109801</td>\n",
       "      <td>0.196859</td>\n",
       "      <td>-0.051390</td>\n",
       "      <td>-1.229249</td>\n",
       "      <td>-1.003329</td>\n",
       "      <td>0.018998</td>\n",
       "      <td>-0.046404</td>\n",
       "      <td>0.699176</td>\n",
       "      <td>...</td>\n",
       "      <td>-0.545884</td>\n",
       "      <td>0.109474</td>\n",
       "      <td>1.411440</td>\n",
       "      <td>0.470524</td>\n",
       "      <td>-1.182927</td>\n",
       "      <td>-1.381369</td>\n",
       "      <td>-1.632139</td>\n",
       "      <td>1.810377</td>\n",
       "      <td>0.674904</td>\n",
       "      <td>0.122216</td>\n",
       "    </tr>\n",
       "    <tr>\n",
       "      <th>367</th>\n",
       "      <td>-0.320823</td>\n",
       "      <td>-0.680830</td>\n",
       "      <td>0.435163</td>\n",
       "      <td>-0.558359</td>\n",
       "      <td>0.288287</td>\n",
       "      <td>0.266746</td>\n",
       "      <td>1.361249</td>\n",
       "      <td>-1.190624</td>\n",
       "      <td>-1.112909</td>\n",
       "      <td>-0.061817</td>\n",
       "      <td>...</td>\n",
       "      <td>1.782686</td>\n",
       "      <td>0.552893</td>\n",
       "      <td>-0.357741</td>\n",
       "      <td>-0.618208</td>\n",
       "      <td>0.101780</td>\n",
       "      <td>0.015179</td>\n",
       "      <td>-0.130783</td>\n",
       "      <td>0.410358</td>\n",
       "      <td>-0.005904</td>\n",
       "      <td>-0.925360</td>\n",
       "    </tr>\n",
       "    <tr>\n",
       "      <th>464</th>\n",
       "      <td>-0.005940</td>\n",
       "      <td>0.585160</td>\n",
       "      <td>-0.231371</td>\n",
       "      <td>0.359586</td>\n",
       "      <td>1.648103</td>\n",
       "      <td>-0.529132</td>\n",
       "      <td>-2.345638</td>\n",
       "      <td>1.900817</td>\n",
       "      <td>1.483728</td>\n",
       "      <td>-1.875576</td>\n",
       "      <td>...</td>\n",
       "      <td>-1.282830</td>\n",
       "      <td>-0.633067</td>\n",
       "      <td>-0.660456</td>\n",
       "      <td>-1.486898</td>\n",
       "      <td>-0.795196</td>\n",
       "      <td>-0.352825</td>\n",
       "      <td>-0.006854</td>\n",
       "      <td>0.659373</td>\n",
       "      <td>0.145644</td>\n",
       "      <td>0.879536</td>\n",
       "    </tr>\n",
       "  </tbody>\n",
       "</table>\n",
       "<p>243 rows × 828 columns</p>\n",
       "</div>"
      ],
      "text/plain": [
       "           x0        x1        x2        x3        x4        x5        x6  \\\n",
       "801  1.359533  0.459014  0.339587 -0.194593  0.783548  1.033031 -0.054079   \n",
       "677 -0.148333 -0.131357  0.665774 -1.069432  1.133581  1.811608  0.950913   \n",
       "43  -0.273613  1.601598 -0.809951 -0.010533  1.514877 -0.005275  0.570904   \n",
       "990 -0.460091 -0.217644  1.313331 -0.918573 -1.276381 -0.005275  1.370343   \n",
       "70   1.030626  0.945782  1.528852 -0.120766  0.578191 -0.378145 -1.452431   \n",
       "..        ...       ...       ...       ...       ...       ...       ...   \n",
       "904  0.580896 -0.131357  0.217757  1.232651 -0.875616 -1.445223  0.171942   \n",
       "673 -0.148333  0.154172 -1.454732 -1.482054 -0.343430 -0.449199  1.558752   \n",
       "708  0.715143 -0.272410  2.109801  0.196859 -0.051390 -1.229249 -1.003329   \n",
       "367 -0.320823 -0.680830  0.435163 -0.558359  0.288287  0.266746  1.361249   \n",
       "464 -0.005940  0.585160 -0.231371  0.359586  1.648103 -0.529132 -2.345638   \n",
       "\n",
       "           x7        x8        x9  ...      x822      x823      x824  \\\n",
       "801  1.386708  1.419838  0.316343  ... -0.934455  0.730277 -0.743350   \n",
       "677 -0.900671  0.422283  1.354028  ...  0.814070  0.308782 -1.341874   \n",
       "43  -1.385937 -0.046404  1.062219  ... -0.981165 -1.688710 -0.667807   \n",
       "990 -0.108825 -1.728645  1.053114  ... -0.613586 -0.933824 -0.006646   \n",
       "70  -1.100144  1.654622  1.029604  ... -0.005430  1.462694  0.068921   \n",
       "..        ...       ...       ...  ...       ...       ...       ...   \n",
       "904 -0.095679  0.781302 -0.980250  ... -0.327102 -0.357407  0.427206   \n",
       "673  1.457223  1.489332  0.686624  ...  0.631523  0.309821  1.032625   \n",
       "708  0.018998 -0.046404  0.699176  ... -0.545884  0.109474  1.411440   \n",
       "367 -1.190624 -1.112909 -0.061817  ...  1.782686  0.552893 -0.357741   \n",
       "464  1.900817  1.483728 -1.875576  ... -1.282830 -0.633067 -0.660456   \n",
       "\n",
       "         x825      x826      x827      x828      x829      x830      x831  \n",
       "801 -0.342046  0.945600  2.282991 -0.528466 -0.454877  1.485537  0.002413  \n",
       "677 -0.674404 -1.406581  0.312330 -0.009769 -0.046611 -1.079061  0.862273  \n",
       "43  -0.614756  1.109218 -1.782454 -1.193961 -0.025684  1.427604 -0.876229  \n",
       "990 -1.377137 -0.105661 -0.598885 -0.130783 -0.327974 -0.211967  0.720824  \n",
       "70   0.723125  0.204150  0.737810 -0.130783  1.392817  1.441607 -1.205046  \n",
       "..        ...       ...       ...       ...       ...       ...       ...  \n",
       "904  0.614293 -0.341914 -0.010265  1.006951  0.285387  1.646663 -0.164958  \n",
       "673 -1.221606  0.337297 -0.754033  0.459332  0.915614  1.020814  0.323661  \n",
       "708  0.470524 -1.182927 -1.381369 -1.632139  1.810377  0.674904  0.122216  \n",
       "367 -0.618208  0.101780  0.015179 -0.130783  0.410358 -0.005904 -0.925360  \n",
       "464 -1.486898 -0.795196 -0.352825 -0.006854  0.659373  0.145644  0.879536  \n",
       "\n",
       "[243 rows x 828 columns]"
      ]
     },
     "execution_count": 160,
     "metadata": {},
     "output_type": "execute_result"
    }
   ],
   "source": [
    "X_train_norm = X_train_filled.copy()\n",
    "for col in X_train_filled.columns:\n",
    "    X_train_norm[col] = (X_train_filled[col] - X_train_filled[col].mean()) / m.sqrt(X_train_filled[col].var())\n",
    "X_train_norm\n",
    "\n",
    "X_test_norm = X_test_filled.copy()\n",
    "for col in X_test_filled.columns:\n",
    "    X_test_norm[col] = (X_test_filled[col] - X_test_filled[col].mean()) / m.sqrt(X_test_filled[col].var())\n",
    "X_test_norm\n",
    "\n",
    "## should we normalize y too ?"
   ]
  },
  {
   "cell_type": "markdown",
   "id": "4cfe4871",
   "metadata": {},
   "source": [
    "### Handling feature selections"
   ]
  },
  {
   "cell_type": "code",
   "execution_count": 213,
   "id": "c94b05a8",
   "metadata": {},
   "outputs": [
    {
     "name": "stderr",
     "output_type": "stream",
     "text": [
      "/Users/yanistournier/opt/miniconda3/lib/python3.8/site-packages/sklearn/utils/validation.py:993: DataConversionWarning: A column-vector y was passed when a 1d array was expected. Please change the shape of y to (n_samples, ), for example using ravel().\n",
      "  y = column_or_1d(y, warn=True)\n"
     ]
    },
    {
     "data": {
      "text/plain": [
       "(969, 10)"
      ]
     },
     "execution_count": 213,
     "metadata": {},
     "output_type": "execute_result"
    }
   ],
   "source": [
    "## Univariate feature selection with the highest variance\n",
    "select_feature = SelectKBest(f_regression, k=(10)).fit(X_train_norm, y_train)\n",
    "X_train_new = select_feature.transform(X_train_norm)\n",
    "X_test_new = select_feature.transform(X_test_norm)\n",
    "X_train_new.shape\n"
   ]
  },
  {
   "cell_type": "code",
   "execution_count": null,
   "id": "8291533a",
   "metadata": {},
   "outputs": [],
   "source": [
    "## Feature selection with PCA\n",
    "\n",
    "pca = PCA(n_components=100)\n",
    "pca.fit(X_train_norm,y_train)\n",
    "X_train_pca = pca.transform(X_train_norm)\n",
    "X_test_pca = pca.transform(X_test_norm)"
   ]
  },
  {
   "cell_type": "code",
   "execution_count": 150,
   "id": "8b2d7ff8",
   "metadata": {},
   "outputs": [
    {
     "ename": "KeyboardInterrupt",
     "evalue": "",
     "output_type": "error",
     "traceback": [
      "\u001b[0;31m---------------------------------------------------------------------------\u001b[0m",
      "\u001b[0;31mKeyboardInterrupt\u001b[0m                         Traceback (most recent call last)",
      "\u001b[1;32m/Users/yanistournier/projet AML/AML/Project1.ipynb Cellule 17\u001b[0m in \u001b[0;36m<cell line: 7>\u001b[0;34m()\u001b[0m\n\u001b[1;32m      <a href='vscode-notebook-cell:/Users/yanistournier/projet%20AML/AML/Project1.ipynb#X33sZmlsZQ%3D%3D?line=4'>5</a>\u001b[0m clf_rf_3 \u001b[39m=\u001b[39m SVR(kernel\u001b[39m=\u001b[39m\u001b[39m\"\u001b[39m\u001b[39mlinear\u001b[39m\u001b[39m\"\u001b[39m)      \n\u001b[1;32m      <a href='vscode-notebook-cell:/Users/yanistournier/projet%20AML/AML/Project1.ipynb#X33sZmlsZQ%3D%3D?line=5'>6</a>\u001b[0m rfe \u001b[39m=\u001b[39m RFE(estimator\u001b[39m=\u001b[39mclf_rf_3, n_features_to_select\u001b[39m=\u001b[39m\u001b[39m20\u001b[39m, step\u001b[39m=\u001b[39m\u001b[39m1\u001b[39m)\n\u001b[0;32m----> <a href='vscode-notebook-cell:/Users/yanistournier/projet%20AML/AML/Project1.ipynb#X33sZmlsZQ%3D%3D?line=6'>7</a>\u001b[0m rfe \u001b[39m=\u001b[39m rfe\u001b[39m.\u001b[39;49mfit(X_train_RFE, y_train_RFE)\n",
      "File \u001b[0;32m~/opt/miniconda3/lib/python3.8/site-packages/sklearn/feature_selection/_rfe.py:222\u001b[0m, in \u001b[0;36mRFE.fit\u001b[0;34m(self, X, y, **fit_params)\u001b[0m\n\u001b[1;32m    202\u001b[0m \u001b[39mdef\u001b[39;00m \u001b[39mfit\u001b[39m(\u001b[39mself\u001b[39m, X, y, \u001b[39m*\u001b[39m\u001b[39m*\u001b[39mfit_params):\n\u001b[1;32m    203\u001b[0m     \u001b[39m\"\"\"Fit the RFE model and then the underlying estimator on the selected features.\u001b[39;00m\n\u001b[1;32m    204\u001b[0m \n\u001b[1;32m    205\u001b[0m \u001b[39m    Parameters\u001b[39;00m\n\u001b[0;32m   (...)\u001b[0m\n\u001b[1;32m    220\u001b[0m \u001b[39m        Fitted estimator.\u001b[39;00m\n\u001b[1;32m    221\u001b[0m \u001b[39m    \"\"\"\u001b[39;00m\n\u001b[0;32m--> 222\u001b[0m     \u001b[39mreturn\u001b[39;00m \u001b[39mself\u001b[39;49m\u001b[39m.\u001b[39;49m_fit(X, y, \u001b[39m*\u001b[39;49m\u001b[39m*\u001b[39;49mfit_params)\n",
      "File \u001b[0;32m~/opt/miniconda3/lib/python3.8/site-packages/sklearn/feature_selection/_rfe.py:283\u001b[0m, in \u001b[0;36mRFE._fit\u001b[0;34m(self, X, y, step_score, **fit_params)\u001b[0m\n\u001b[1;32m    280\u001b[0m \u001b[39mif\u001b[39;00m \u001b[39mself\u001b[39m\u001b[39m.\u001b[39mverbose \u001b[39m>\u001b[39m \u001b[39m0\u001b[39m:\n\u001b[1;32m    281\u001b[0m     \u001b[39mprint\u001b[39m(\u001b[39m\"\u001b[39m\u001b[39mFitting estimator with \u001b[39m\u001b[39m%d\u001b[39;00m\u001b[39m features.\u001b[39m\u001b[39m\"\u001b[39m \u001b[39m%\u001b[39m np\u001b[39m.\u001b[39msum(support_))\n\u001b[0;32m--> 283\u001b[0m estimator\u001b[39m.\u001b[39;49mfit(X[:, features], y, \u001b[39m*\u001b[39;49m\u001b[39m*\u001b[39;49mfit_params)\n\u001b[1;32m    285\u001b[0m \u001b[39m# Get importance and rank them\u001b[39;00m\n\u001b[1;32m    286\u001b[0m importances \u001b[39m=\u001b[39m _get_feature_importances(\n\u001b[1;32m    287\u001b[0m     estimator,\n\u001b[1;32m    288\u001b[0m     \u001b[39mself\u001b[39m\u001b[39m.\u001b[39mimportance_getter,\n\u001b[1;32m    289\u001b[0m     transform_func\u001b[39m=\u001b[39m\u001b[39m\"\u001b[39m\u001b[39msquare\u001b[39m\u001b[39m\"\u001b[39m,\n\u001b[1;32m    290\u001b[0m )\n",
      "File \u001b[0;32m~/opt/miniconda3/lib/python3.8/site-packages/sklearn/svm/_base.py:255\u001b[0m, in \u001b[0;36mBaseLibSVM.fit\u001b[0;34m(self, X, y, sample_weight)\u001b[0m\n\u001b[1;32m    252\u001b[0m     \u001b[39mprint\u001b[39m(\u001b[39m\"\u001b[39m\u001b[39m[LibSVM]\u001b[39m\u001b[39m\"\u001b[39m, end\u001b[39m=\u001b[39m\u001b[39m\"\u001b[39m\u001b[39m\"\u001b[39m)\n\u001b[1;32m    254\u001b[0m seed \u001b[39m=\u001b[39m rnd\u001b[39m.\u001b[39mrandint(np\u001b[39m.\u001b[39miinfo(\u001b[39m\"\u001b[39m\u001b[39mi\u001b[39m\u001b[39m\"\u001b[39m)\u001b[39m.\u001b[39mmax)\n\u001b[0;32m--> 255\u001b[0m fit(X, y, sample_weight, solver_type, kernel, random_seed\u001b[39m=\u001b[39;49mseed)\n\u001b[1;32m    256\u001b[0m \u001b[39m# see comment on the other call to np.iinfo in this file\u001b[39;00m\n\u001b[1;32m    258\u001b[0m \u001b[39mself\u001b[39m\u001b[39m.\u001b[39mshape_fit_ \u001b[39m=\u001b[39m X\u001b[39m.\u001b[39mshape \u001b[39mif\u001b[39;00m \u001b[39mhasattr\u001b[39m(X, \u001b[39m\"\u001b[39m\u001b[39mshape\u001b[39m\u001b[39m\"\u001b[39m) \u001b[39melse\u001b[39;00m (n_samples,)\n",
      "File \u001b[0;32m~/opt/miniconda3/lib/python3.8/site-packages/sklearn/svm/_base.py:315\u001b[0m, in \u001b[0;36mBaseLibSVM._dense_fit\u001b[0;34m(self, X, y, sample_weight, solver_type, kernel, random_seed)\u001b[0m\n\u001b[1;32m    302\u001b[0m libsvm\u001b[39m.\u001b[39mset_verbosity_wrap(\u001b[39mself\u001b[39m\u001b[39m.\u001b[39mverbose)\n\u001b[1;32m    304\u001b[0m \u001b[39m# we don't pass **self.get_params() to allow subclasses to\u001b[39;00m\n\u001b[1;32m    305\u001b[0m \u001b[39m# add other parameters to __init__\u001b[39;00m\n\u001b[1;32m    306\u001b[0m (\n\u001b[1;32m    307\u001b[0m     \u001b[39mself\u001b[39m\u001b[39m.\u001b[39msupport_,\n\u001b[1;32m    308\u001b[0m     \u001b[39mself\u001b[39m\u001b[39m.\u001b[39msupport_vectors_,\n\u001b[1;32m    309\u001b[0m     \u001b[39mself\u001b[39m\u001b[39m.\u001b[39m_n_support,\n\u001b[1;32m    310\u001b[0m     \u001b[39mself\u001b[39m\u001b[39m.\u001b[39mdual_coef_,\n\u001b[1;32m    311\u001b[0m     \u001b[39mself\u001b[39m\u001b[39m.\u001b[39mintercept_,\n\u001b[1;32m    312\u001b[0m     \u001b[39mself\u001b[39m\u001b[39m.\u001b[39m_probA,\n\u001b[1;32m    313\u001b[0m     \u001b[39mself\u001b[39m\u001b[39m.\u001b[39m_probB,\n\u001b[1;32m    314\u001b[0m     \u001b[39mself\u001b[39m\u001b[39m.\u001b[39mfit_status_,\n\u001b[0;32m--> 315\u001b[0m ) \u001b[39m=\u001b[39m libsvm\u001b[39m.\u001b[39;49mfit(\n\u001b[1;32m    316\u001b[0m     X,\n\u001b[1;32m    317\u001b[0m     y,\n\u001b[1;32m    318\u001b[0m     svm_type\u001b[39m=\u001b[39;49msolver_type,\n\u001b[1;32m    319\u001b[0m     sample_weight\u001b[39m=\u001b[39;49msample_weight,\n\u001b[1;32m    320\u001b[0m     class_weight\u001b[39m=\u001b[39;49m\u001b[39mself\u001b[39;49m\u001b[39m.\u001b[39;49mclass_weight_,\n\u001b[1;32m    321\u001b[0m     kernel\u001b[39m=\u001b[39;49mkernel,\n\u001b[1;32m    322\u001b[0m     C\u001b[39m=\u001b[39;49m\u001b[39mself\u001b[39;49m\u001b[39m.\u001b[39;49mC,\n\u001b[1;32m    323\u001b[0m     nu\u001b[39m=\u001b[39;49m\u001b[39mself\u001b[39;49m\u001b[39m.\u001b[39;49mnu,\n\u001b[1;32m    324\u001b[0m     probability\u001b[39m=\u001b[39;49m\u001b[39mself\u001b[39;49m\u001b[39m.\u001b[39;49mprobability,\n\u001b[1;32m    325\u001b[0m     degree\u001b[39m=\u001b[39;49m\u001b[39mself\u001b[39;49m\u001b[39m.\u001b[39;49mdegree,\n\u001b[1;32m    326\u001b[0m     shrinking\u001b[39m=\u001b[39;49m\u001b[39mself\u001b[39;49m\u001b[39m.\u001b[39;49mshrinking,\n\u001b[1;32m    327\u001b[0m     tol\u001b[39m=\u001b[39;49m\u001b[39mself\u001b[39;49m\u001b[39m.\u001b[39;49mtol,\n\u001b[1;32m    328\u001b[0m     cache_size\u001b[39m=\u001b[39;49m\u001b[39mself\u001b[39;49m\u001b[39m.\u001b[39;49mcache_size,\n\u001b[1;32m    329\u001b[0m     coef0\u001b[39m=\u001b[39;49m\u001b[39mself\u001b[39;49m\u001b[39m.\u001b[39;49mcoef0,\n\u001b[1;32m    330\u001b[0m     gamma\u001b[39m=\u001b[39;49m\u001b[39mself\u001b[39;49m\u001b[39m.\u001b[39;49m_gamma,\n\u001b[1;32m    331\u001b[0m     epsilon\u001b[39m=\u001b[39;49m\u001b[39mself\u001b[39;49m\u001b[39m.\u001b[39;49mepsilon,\n\u001b[1;32m    332\u001b[0m     max_iter\u001b[39m=\u001b[39;49m\u001b[39mself\u001b[39;49m\u001b[39m.\u001b[39;49mmax_iter,\n\u001b[1;32m    333\u001b[0m     random_seed\u001b[39m=\u001b[39;49mrandom_seed,\n\u001b[1;32m    334\u001b[0m )\n\u001b[1;32m    336\u001b[0m \u001b[39mself\u001b[39m\u001b[39m.\u001b[39m_warn_from_fit_status()\n",
      "File \u001b[0;32msklearn/svm/_libsvm.pyx:230\u001b[0m, in \u001b[0;36msklearn.svm._libsvm.fit\u001b[0;34m()\u001b[0m\n",
      "\u001b[0;31mKeyboardInterrupt\u001b[0m: "
     ]
    }
   ],
   "source": [
    "## Feature selection/ranking with recursive feature elimination\n",
    "\n",
    "X_train_RFE = X_train_norm.values\n",
    "X_test_RFE = X_test_norm.values\n",
    "y_train_RFE = y_train.values.reshape(-1)\n",
    "clf_rf_3 = SVR(kernel=\"linear\")      \n",
    "rfe = RFE(estimator=clf_rf_3, n_features_to_select=20, step=1)\n",
    "rfe = rfe.fit(X_train_RFE, y_train_RFE)"
   ]
  },
  {
   "cell_type": "code",
   "execution_count": 214,
   "id": "5c99bf02",
   "metadata": {},
   "outputs": [
    {
     "data": {
      "text/plain": [
       "<AxesSubplot:>"
      ]
     },
     "execution_count": 214,
     "metadata": {},
     "output_type": "execute_result"
    },
    {
     "data": {
      "image/png": "[encoded data removed]",
      "text/plain": [
       "<Figure size 1296x1296 with 2 Axes>"
      ]
     },
     "metadata": {},
     "output_type": "display_data"
    }
   ],
   "source": [
    "### Feature visualization\n",
    "# correlation map\n",
    "X_dtf = pd.DataFrame(X_train_new)\n",
    "f,ax = plt.subplots(figsize=(18, 18))\n",
    "sns.heatmap(X_dtf.corr(), annot=True, linewidths=.5, fmt= '.1f',ax=ax)"
   ]
  },
  {
   "cell_type": "code",
   "execution_count": 220,
   "id": "f411ca13",
   "metadata": {},
   "outputs": [
    {
     "data": {
      "image/png": "[encoded data removed]",
      "text/plain": [
       "<Figure size 432x288 with 1 Axes>"
      ]
     },
     "metadata": {},
     "output_type": "display_data"
    },
    {
     "name": "stdout",
     "output_type": "stream",
     "text": [
      "(97, 10) (969, 10)\n"
     ]
    },
    {
     "data": {
      "text/plain": [
       "(array([ 13,  17,  30,  33,  52,  55,  61,  62,  86, 100, 110, 111, 113,\n",
       "        118, 130, 133, 139, 159, 177, 185, 203, 212, 213, 221, 231, 245,\n",
       "        250, 252, 267, 270, 271, 273, 280, 310, 319, 329, 337, 347, 349,\n",
       "        362, 385, 396, 397, 401, 404, 417, 419, 437, 442, 446, 448, 458,\n",
       "        486, 500, 511, 515, 542, 547, 587, 595, 611, 616, 620, 631, 633,\n",
       "        671, 682, 703, 705, 709, 725, 751, 755, 756, 789, 790, 794, 813,\n",
       "        815, 821, 825, 846, 861, 863, 866, 870, 872, 882, 885, 913, 934,\n",
       "        952, 953, 954, 959, 962, 965]),)"
      ]
     },
     "execution_count": 220,
     "metadata": {},
     "output_type": "execute_result"
    }
   ],
   "source": [
    "## Outlier detection with multivariate technique: gaussian mixture model\n",
    "elenv = EllipticEnvelope(contamination=0.1)\n",
    "\n",
    "pred = elenv.fit_predict(X_train_new)\n",
    "anom_index=where(pred==-1)\n",
    "values_anom = X_train_new[anom_index]\n",
    "\n",
    "plt.scatter(X_train_new[:,0], X_train_new[:,2])\n",
    "plt.scatter(values_anom[:,0],values_anom[:,2], color='r')\n",
    "plt.show()\n",
    "print(values_anom.shape,X_train_new.shape)\n",
    "anom_index"
   ]
  },
  {
   "cell_type": "code",
   "execution_count": null,
   "id": "4e383585",
   "metadata": {},
   "outputs": [],
   "source": [
    "X_anom_dtf = pd.DataFrame(values_anom)\n",
    "sns.set()\n",
    "sns.pairplot(X_dtf, size = 2.5)\n",
    "sns.pairplot(X_anom_dtf, size = 2.5)\n",
    "plt.show();"
   ]
  },
  {
   "cell_type": "code",
   "execution_count": 217,
   "id": "7cb0d8c9",
   "metadata": {},
   "outputs": [
    {
     "data": {
      "text/plain": [
       "0.2389649124709835"
      ]
     },
     "execution_count": 217,
     "metadata": {},
     "output_type": "execute_result"
    }
   ],
   "source": [
    "model = LinearRegression()\n",
    "model.fit(X_train_new, y_train)\n",
    "y_pred = model.predict(X_test_new)\n",
    "y_pred.shape\n",
    "score = r2_score(y_test, y_pred)\n",
    "score"
   ]
  },
  {
   "cell_type": "code",
   "execution_count": 218,
   "id": "59681854",
   "metadata": {},
   "outputs": [
    {
     "name": "stderr",
     "output_type": "stream",
     "text": [
      "/var/folders/xz/2x_7tl010yn5bqd9lf1tsr3m0000gn/T/ipykernel_68857/4244690101.py:2: DataConversionWarning: A column-vector y was passed when a 1d array was expected. Please change the shape of y to (n_samples,), for example using ravel().\n",
      "  regr.fit(X_train_new, y_train)\n"
     ]
    },
    {
     "data": {
      "text/plain": [
       "0.43816056013667326"
      ]
     },
     "execution_count": 218,
     "metadata": {},
     "output_type": "execute_result"
    }
   ],
   "source": [
    "regr = RandomForestRegressor(max_depth=20, random_state=0)\n",
    "regr.fit(X_train_new, y_train)\n",
    "y_pred = regr.predict(X_test_new)\n",
    "score = r2_score(y_test, y_pred)\n",
    "score"
   ]
  },
  {
   "cell_type": "markdown",
   "id": "e44d2997",
   "metadata": {},
   "source": [
    " "
   ]
  }
 ],
 "metadata": {
  "kernelspec": {
   "display_name": "Python 3.8.12 ('base')",
   "language": "python",
   "name": "python3"
  },
  "language_info": {
   "codemirror_mode": {
    "name": "ipython",
    "version": 3
   },
   "file_extension": ".py",
   "mimetype": "text/x-python",
   "name": "python",
   "nbconvert_exporter": "python",
   "pygments_lexer": "ipython3",
   "version": "3.8.12"
  },
  "vscode": {
   "interpreter": {
    "hash": "717f860013a93b0556820594c0b63bb2304a4642c6a3adb947019f42cb26b7bb"
   }
  }
 },
 "nbformat": 4,
 "nbformat_minor": 5
}
