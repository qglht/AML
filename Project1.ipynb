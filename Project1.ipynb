{
 "cells": [
  {
   "cell_type": "markdown",
   "id": "a96534f8",
   "metadata": {},
   "source": [
    "# Project 1 - Aurèle Bohbot, Quentin Guilhot, Yanis Tournier"
   ]
  },
  {
   "cell_type": "code",
   "execution_count": null,
   "id": "e3410cc3",
   "metadata": {},
   "outputs": [],
   "source": [
    "import pandas as pd\n",
    "import numpy as np\n",
    "import matplotlib.pyplot as plt\n",
    "import sklearn as skl\n",
    "import plotly.express as px\n",
    "from sklearn.decomposition import PCA\n",
    "from sklearn.model_selection import train_test_split\n",
    "from sklearn.linear_model import LinearRegression, Ridge, Lasso, LassoCV\n",
    "from sklearn.metrics import r2_score\n",
    "from collections import Counter"
   ]
  },
  {
   "cell_type": "code",
   "execution_count": 2,
   "id": "bfbfee1e",
   "metadata": {},
   "outputs": [],
   "source": [
    "X = pd.read_csv('X_train.csv').drop(columns=['id'])\n",
    "Xt = pd.read_csv('X_test.csv')\n",
    "y = pd.read_csv('y_train.csv')\n",
    "to_drop = ['x104', 'x129', 'x489', 'x530']\n",
    "X = X.drop(columns=to_drop)\n",
    "y = y.drop(columns=['id'])"
   ]
  },
  {
   "cell_type": "code",
   "execution_count": 3,
   "id": "bcb8f5bc",
   "metadata": {},
   "outputs": [],
   "source": [
    "X_train, X_test, y_train, y_test = train_test_split(X, y, test_size=0.2, random_state=42)"
   ]
  },
  {
   "cell_type": "markdown",
   "id": "ad7ecdaf",
   "metadata": {},
   "source": [
    "### Handling outliers"
   ]
  },
  {
   "cell_type": "code",
   "execution_count": 4,
   "id": "4443c3de",
   "metadata": {},
   "outputs": [],
   "source": [
    "avg=X_train.mean()\n",
    "var=X_train.var()\n",
    "cov=X_train.cov()"
   ]
  },
  {
   "cell_type": "code",
   "execution_count": 5,
   "id": "c4a0bb8e",
   "metadata": {},
   "outputs": [
    {
     "data": {
      "text/plain": [
       "0.9530650263643888"
      ]
     },
     "execution_count": 5,
     "metadata": {},
     "output_type": "execute_result"
    }
   ],
   "source": [
    "0.997**(800/50)"
   ]
  },
  {
   "cell_type": "code",
   "execution_count": 6,
   "id": "b5282fa5",
   "metadata": {},
   "outputs": [],
   "source": [
    "def detection(df,features):\n",
    "    outlier_indices=[]\n",
    "    \n",
    "    for c in features:\n",
    "        Q1, Q3 = np.percentile(df[c],25), np.percentile(df[c],75)\n",
    "        \n",
    "        #IQR calculation\n",
    "        IQR = Q3 - Q1\n",
    "        outlier_step = IQR * 1.5\n",
    "        lower_range = Q1 - (outlier_step)\n",
    "        upper_range = Q3 + (outlier_step)\n",
    "        \n",
    "        #Outlier detection                                    #Outlier indexes\n",
    "        outlier_list_col=df[  (df[c] < lower_range) | (df[c] > upper_range)  ].index\n",
    "       \n",
    "        #Store indexes\n",
    "        outlier_indices.extend(outlier_list_col)\n",
    "        \n",
    "    outlier_indices=Counter(outlier_indices)\n",
    "    # number of outliers\n",
    "    # If we have more then 2 outliers in a sample, this sample ll be drop\n",
    "    multiple_outliers = list(i for i, v in outlier_indices.items() if v > 2 )\n",
    "    #we are taking indexes\n",
    "    \n",
    "    return multiple_outliers"
   ]
  },
  {
   "cell_type": "markdown",
   "id": "bf45e401",
   "metadata": {},
   "source": [
    "### Handling missing values "
   ]
  },
  {
   "cell_type": "markdown",
   "id": "826ba6c9",
   "metadata": {},
   "source": [
    "For the moment, we replace the missing values by the column's median. Depending on the results, we might implement a knn algorithm."
   ]
  },
  {
   "cell_type": "code",
   "execution_count": 7,
   "id": "0189f882",
   "metadata": {},
   "outputs": [],
   "source": [
    "X_filled = X_train.fillna(X_train.median())"
   ]
  },
  {
   "cell_type": "code",
   "execution_count": 8,
   "id": "4eb54902",
   "metadata": {},
   "outputs": [
    {
     "data": {
      "text/html": [
       "<div>\n",
       "<style scoped>\n",
       "    .dataframe tbody tr th:only-of-type {\n",
       "        vertical-align: middle;\n",
       "    }\n",
       "\n",
       "    .dataframe tbody tr th {\n",
       "        vertical-align: top;\n",
       "    }\n",
       "\n",
       "    .dataframe thead th {\n",
       "        text-align: right;\n",
       "    }\n",
       "</style>\n",
       "<table border=\"1\" class=\"dataframe\">\n",
       "  <thead>\n",
       "    <tr style=\"text-align: right;\">\n",
       "      <th></th>\n",
       "      <th>x0</th>\n",
       "      <th>x1</th>\n",
       "      <th>x2</th>\n",
       "      <th>x3</th>\n",
       "      <th>x4</th>\n",
       "      <th>x5</th>\n",
       "      <th>x6</th>\n",
       "      <th>x7</th>\n",
       "      <th>x8</th>\n",
       "      <th>x9</th>\n",
       "      <th>...</th>\n",
       "      <th>x822</th>\n",
       "      <th>x823</th>\n",
       "      <th>x824</th>\n",
       "      <th>x825</th>\n",
       "      <th>x826</th>\n",
       "      <th>x827</th>\n",
       "      <th>x828</th>\n",
       "      <th>x829</th>\n",
       "      <th>x830</th>\n",
       "      <th>x831</th>\n",
       "    </tr>\n",
       "  </thead>\n",
       "  <tbody>\n",
       "    <tr>\n",
       "      <th>806</th>\n",
       "      <td>0.000401</td>\n",
       "      <td>0.001566</td>\n",
       "      <td>0.000971</td>\n",
       "      <td>-1.898010e-04</td>\n",
       "      <td>-0.473492</td>\n",
       "      <td>-0.000480</td>\n",
       "      <td>-0.000385</td>\n",
       "      <td>-0.001698</td>\n",
       "      <td>0.000037</td>\n",
       "      <td>-0.072864</td>\n",
       "      <td>...</td>\n",
       "      <td>0.000144</td>\n",
       "      <td>0.000465</td>\n",
       "      <td>-0.000631</td>\n",
       "      <td>0.195912</td>\n",
       "      <td>0.002024</td>\n",
       "      <td>0.002457</td>\n",
       "      <td>-1.034119</td>\n",
       "      <td>0.004054</td>\n",
       "      <td>0.051652</td>\n",
       "      <td>0.001229</td>\n",
       "    </tr>\n",
       "    <tr>\n",
       "      <th>591</th>\n",
       "      <td>-0.000506</td>\n",
       "      <td>0.000010</td>\n",
       "      <td>-0.002455</td>\n",
       "      <td>-6.222288e-05</td>\n",
       "      <td>0.243028</td>\n",
       "      <td>-0.121647</td>\n",
       "      <td>0.000271</td>\n",
       "      <td>-0.002193</td>\n",
       "      <td>-0.005757</td>\n",
       "      <td>-0.609136</td>\n",
       "      <td>...</td>\n",
       "      <td>-0.001448</td>\n",
       "      <td>-0.000333</td>\n",
       "      <td>-0.004205</td>\n",
       "      <td>-0.312476</td>\n",
       "      <td>0.061154</td>\n",
       "      <td>0.000112</td>\n",
       "      <td>0.727801</td>\n",
       "      <td>-0.000689</td>\n",
       "      <td>0.030222</td>\n",
       "      <td>0.001004</td>\n",
       "    </tr>\n",
       "    <tr>\n",
       "      <th>361</th>\n",
       "      <td>-0.000017</td>\n",
       "      <td>0.000093</td>\n",
       "      <td>0.002247</td>\n",
       "      <td>-3.355576e-08</td>\n",
       "      <td>-0.006433</td>\n",
       "      <td>0.069583</td>\n",
       "      <td>0.000017</td>\n",
       "      <td>-0.006196</td>\n",
       "      <td>-0.005941</td>\n",
       "      <td>-1.007904</td>\n",
       "      <td>...</td>\n",
       "      <td>-0.000173</td>\n",
       "      <td>0.000086</td>\n",
       "      <td>-0.000989</td>\n",
       "      <td>-0.089989</td>\n",
       "      <td>0.235401</td>\n",
       "      <td>-0.001400</td>\n",
       "      <td>-2.217684</td>\n",
       "      <td>-0.005465</td>\n",
       "      <td>-0.058736</td>\n",
       "      <td>0.000620</td>\n",
       "    </tr>\n",
       "    <tr>\n",
       "      <th>266</th>\n",
       "      <td>-0.000227</td>\n",
       "      <td>-0.000022</td>\n",
       "      <td>-0.000640</td>\n",
       "      <td>-1.917863e-04</td>\n",
       "      <td>0.002499</td>\n",
       "      <td>-0.319502</td>\n",
       "      <td>0.000269</td>\n",
       "      <td>-0.005150</td>\n",
       "      <td>-0.006275</td>\n",
       "      <td>-0.917006</td>\n",
       "      <td>...</td>\n",
       "      <td>0.000226</td>\n",
       "      <td>0.000460</td>\n",
       "      <td>0.002538</td>\n",
       "      <td>-0.251294</td>\n",
       "      <td>0.086133</td>\n",
       "      <td>-0.001476</td>\n",
       "      <td>4.535187</td>\n",
       "      <td>-0.001200</td>\n",
       "      <td>0.003431</td>\n",
       "      <td>-0.000651</td>\n",
       "    </tr>\n",
       "    <tr>\n",
       "      <th>879</th>\n",
       "      <td>-0.000103</td>\n",
       "      <td>-0.000722</td>\n",
       "      <td>0.001123</td>\n",
       "      <td>7.499469e-05</td>\n",
       "      <td>-0.346855</td>\n",
       "      <td>0.225285</td>\n",
       "      <td>-0.001076</td>\n",
       "      <td>0.006932</td>\n",
       "      <td>0.004788</td>\n",
       "      <td>-0.399058</td>\n",
       "      <td>...</td>\n",
       "      <td>-0.000804</td>\n",
       "      <td>-0.000209</td>\n",
       "      <td>0.003437</td>\n",
       "      <td>-0.384839</td>\n",
       "      <td>-0.163415</td>\n",
       "      <td>-0.004382</td>\n",
       "      <td>-6.492582</td>\n",
       "      <td>0.003093</td>\n",
       "      <td>0.054740</td>\n",
       "      <td>0.000021</td>\n",
       "    </tr>\n",
       "    <tr>\n",
       "      <th>...</th>\n",
       "      <td>...</td>\n",
       "      <td>...</td>\n",
       "      <td>...</td>\n",
       "      <td>...</td>\n",
       "      <td>...</td>\n",
       "      <td>...</td>\n",
       "      <td>...</td>\n",
       "      <td>...</td>\n",
       "      <td>...</td>\n",
       "      <td>...</td>\n",
       "      <td>...</td>\n",
       "      <td>...</td>\n",
       "      <td>...</td>\n",
       "      <td>...</td>\n",
       "      <td>...</td>\n",
       "      <td>...</td>\n",
       "      <td>...</td>\n",
       "      <td>...</td>\n",
       "      <td>...</td>\n",
       "      <td>...</td>\n",
       "      <td>...</td>\n",
       "    </tr>\n",
       "    <tr>\n",
       "      <th>1044</th>\n",
       "      <td>-0.000021</td>\n",
       "      <td>0.000185</td>\n",
       "      <td>-0.000699</td>\n",
       "      <td>-1.442587e-04</td>\n",
       "      <td>-0.306512</td>\n",
       "      <td>-0.074619</td>\n",
       "      <td>0.001326</td>\n",
       "      <td>0.000268</td>\n",
       "      <td>0.001991</td>\n",
       "      <td>-0.036737</td>\n",
       "      <td>...</td>\n",
       "      <td>0.000127</td>\n",
       "      <td>0.000096</td>\n",
       "      <td>-0.000631</td>\n",
       "      <td>0.605737</td>\n",
       "      <td>-0.246015</td>\n",
       "      <td>0.001750</td>\n",
       "      <td>-0.520480</td>\n",
       "      <td>0.000031</td>\n",
       "      <td>0.010332</td>\n",
       "      <td>0.001710</td>\n",
       "    </tr>\n",
       "    <tr>\n",
       "      <th>1095</th>\n",
       "      <td>-0.000132</td>\n",
       "      <td>-0.000567</td>\n",
       "      <td>-0.001448</td>\n",
       "      <td>4.730944e-05</td>\n",
       "      <td>-0.298873</td>\n",
       "      <td>-0.045282</td>\n",
       "      <td>-0.002531</td>\n",
       "      <td>0.004641</td>\n",
       "      <td>-0.004720</td>\n",
       "      <td>-0.540256</td>\n",
       "      <td>...</td>\n",
       "      <td>0.000935</td>\n",
       "      <td>0.000117</td>\n",
       "      <td>-0.001329</td>\n",
       "      <td>-0.557548</td>\n",
       "      <td>0.015850</td>\n",
       "      <td>0.001357</td>\n",
       "      <td>5.579982</td>\n",
       "      <td>-0.005231</td>\n",
       "      <td>-0.048276</td>\n",
       "      <td>-0.000989</td>\n",
       "    </tr>\n",
       "    <tr>\n",
       "      <th>1130</th>\n",
       "      <td>-0.000309</td>\n",
       "      <td>-0.000030</td>\n",
       "      <td>-0.001530</td>\n",
       "      <td>-3.355576e-08</td>\n",
       "      <td>0.501975</td>\n",
       "      <td>0.017081</td>\n",
       "      <td>-0.000698</td>\n",
       "      <td>-0.000002</td>\n",
       "      <td>0.005510</td>\n",
       "      <td>0.613534</td>\n",
       "      <td>...</td>\n",
       "      <td>-0.000159</td>\n",
       "      <td>0.000536</td>\n",
       "      <td>-0.000631</td>\n",
       "      <td>-0.217634</td>\n",
       "      <td>0.422561</td>\n",
       "      <td>0.000151</td>\n",
       "      <td>1.636514</td>\n",
       "      <td>0.002245</td>\n",
       "      <td>0.042246</td>\n",
       "      <td>0.000203</td>\n",
       "    </tr>\n",
       "    <tr>\n",
       "      <th>860</th>\n",
       "      <td>0.000496</td>\n",
       "      <td>0.000957</td>\n",
       "      <td>0.003818</td>\n",
       "      <td>3.365401e-05</td>\n",
       "      <td>0.598835</td>\n",
       "      <td>-0.024605</td>\n",
       "      <td>0.001083</td>\n",
       "      <td>-0.000512</td>\n",
       "      <td>-0.001144</td>\n",
       "      <td>-0.853322</td>\n",
       "      <td>...</td>\n",
       "      <td>-0.002345</td>\n",
       "      <td>0.000550</td>\n",
       "      <td>0.007706</td>\n",
       "      <td>-0.231944</td>\n",
       "      <td>0.589076</td>\n",
       "      <td>0.003152</td>\n",
       "      <td>1.524929</td>\n",
       "      <td>0.003915</td>\n",
       "      <td>-0.008156</td>\n",
       "      <td>-0.002422</td>\n",
       "    </tr>\n",
       "    <tr>\n",
       "      <th>1126</th>\n",
       "      <td>0.000677</td>\n",
       "      <td>0.000666</td>\n",
       "      <td>0.001073</td>\n",
       "      <td>1.094302e-04</td>\n",
       "      <td>0.250039</td>\n",
       "      <td>-0.005299</td>\n",
       "      <td>0.000209</td>\n",
       "      <td>-0.000002</td>\n",
       "      <td>0.005601</td>\n",
       "      <td>0.377086</td>\n",
       "      <td>...</td>\n",
       "      <td>-0.000387</td>\n",
       "      <td>0.000103</td>\n",
       "      <td>-0.000631</td>\n",
       "      <td>-0.086680</td>\n",
       "      <td>-0.430835</td>\n",
       "      <td>0.001262</td>\n",
       "      <td>-4.212191</td>\n",
       "      <td>-0.000355</td>\n",
       "      <td>0.002747</td>\n",
       "      <td>0.000086</td>\n",
       "    </tr>\n",
       "  </tbody>\n",
       "</table>\n",
       "<p>969 rows × 828 columns</p>\n",
       "</div>"
      ],
      "text/plain": [
       "            x0        x1        x2            x3        x4        x5  \\\n",
       "806   0.000401  0.001566  0.000971 -1.898010e-04 -0.473492 -0.000480   \n",
       "591  -0.000506  0.000010 -0.002455 -6.222288e-05  0.243028 -0.121647   \n",
       "361  -0.000017  0.000093  0.002247 -3.355576e-08 -0.006433  0.069583   \n",
       "266  -0.000227 -0.000022 -0.000640 -1.917863e-04  0.002499 -0.319502   \n",
       "879  -0.000103 -0.000722  0.001123  7.499469e-05 -0.346855  0.225285   \n",
       "...        ...       ...       ...           ...       ...       ...   \n",
       "1044 -0.000021  0.000185 -0.000699 -1.442587e-04 -0.306512 -0.074619   \n",
       "1095 -0.000132 -0.000567 -0.001448  4.730944e-05 -0.298873 -0.045282   \n",
       "1130 -0.000309 -0.000030 -0.001530 -3.355576e-08  0.501975  0.017081   \n",
       "860   0.000496  0.000957  0.003818  3.365401e-05  0.598835 -0.024605   \n",
       "1126  0.000677  0.000666  0.001073  1.094302e-04  0.250039 -0.005299   \n",
       "\n",
       "            x6        x7        x8        x9  ...      x822      x823  \\\n",
       "806  -0.000385 -0.001698  0.000037 -0.072864  ...  0.000144  0.000465   \n",
       "591   0.000271 -0.002193 -0.005757 -0.609136  ... -0.001448 -0.000333   \n",
       "361   0.000017 -0.006196 -0.005941 -1.007904  ... -0.000173  0.000086   \n",
       "266   0.000269 -0.005150 -0.006275 -0.917006  ...  0.000226  0.000460   \n",
       "879  -0.001076  0.006932  0.004788 -0.399058  ... -0.000804 -0.000209   \n",
       "...        ...       ...       ...       ...  ...       ...       ...   \n",
       "1044  0.001326  0.000268  0.001991 -0.036737  ...  0.000127  0.000096   \n",
       "1095 -0.002531  0.004641 -0.004720 -0.540256  ...  0.000935  0.000117   \n",
       "1130 -0.000698 -0.000002  0.005510  0.613534  ... -0.000159  0.000536   \n",
       "860   0.001083 -0.000512 -0.001144 -0.853322  ... -0.002345  0.000550   \n",
       "1126  0.000209 -0.000002  0.005601  0.377086  ... -0.000387  0.000103   \n",
       "\n",
       "          x824      x825      x826      x827      x828      x829      x830  \\\n",
       "806  -0.000631  0.195912  0.002024  0.002457 -1.034119  0.004054  0.051652   \n",
       "591  -0.004205 -0.312476  0.061154  0.000112  0.727801 -0.000689  0.030222   \n",
       "361  -0.000989 -0.089989  0.235401 -0.001400 -2.217684 -0.005465 -0.058736   \n",
       "266   0.002538 -0.251294  0.086133 -0.001476  4.535187 -0.001200  0.003431   \n",
       "879   0.003437 -0.384839 -0.163415 -0.004382 -6.492582  0.003093  0.054740   \n",
       "...        ...       ...       ...       ...       ...       ...       ...   \n",
       "1044 -0.000631  0.605737 -0.246015  0.001750 -0.520480  0.000031  0.010332   \n",
       "1095 -0.001329 -0.557548  0.015850  0.001357  5.579982 -0.005231 -0.048276   \n",
       "1130 -0.000631 -0.217634  0.422561  0.000151  1.636514  0.002245  0.042246   \n",
       "860   0.007706 -0.231944  0.589076  0.003152  1.524929  0.003915 -0.008156   \n",
       "1126 -0.000631 -0.086680 -0.430835  0.001262 -4.212191 -0.000355  0.002747   \n",
       "\n",
       "          x831  \n",
       "806   0.001229  \n",
       "591   0.001004  \n",
       "361   0.000620  \n",
       "266  -0.000651  \n",
       "879   0.000021  \n",
       "...        ...  \n",
       "1044  0.001710  \n",
       "1095 -0.000989  \n",
       "1130  0.000203  \n",
       "860  -0.002422  \n",
       "1126  0.000086  \n",
       "\n",
       "[969 rows x 828 columns]"
      ]
     },
     "execution_count": 8,
     "metadata": {},
     "output_type": "execute_result"
    }
   ],
   "source": [
    "X_norm = X_filled.copy()\n",
    "for col in X_filled.columns:\n",
    "    X_norm[col] = (X_filled[col] - X_filled[col].mean()) / X_filled[col].var()\n",
    "X_norm"
   ]
  },
  {
   "cell_type": "code",
   "execution_count": 9,
   "id": "4a7814c6",
   "metadata": {},
   "outputs": [
    {
     "data": {
      "text/html": [
       "<div>\n",
       "<style scoped>\n",
       "    .dataframe tbody tr th:only-of-type {\n",
       "        vertical-align: middle;\n",
       "    }\n",
       "\n",
       "    .dataframe tbody tr th {\n",
       "        vertical-align: top;\n",
       "    }\n",
       "\n",
       "    .dataframe thead th {\n",
       "        text-align: right;\n",
       "    }\n",
       "</style>\n",
       "<table border=\"1\" class=\"dataframe\">\n",
       "  <thead>\n",
       "    <tr style=\"text-align: right;\">\n",
       "      <th></th>\n",
       "      <th>x0</th>\n",
       "      <th>x1</th>\n",
       "      <th>x2</th>\n",
       "      <th>x3</th>\n",
       "      <th>x4</th>\n",
       "      <th>x5</th>\n",
       "      <th>x6</th>\n",
       "      <th>x7</th>\n",
       "      <th>x8</th>\n",
       "      <th>x9</th>\n",
       "      <th>...</th>\n",
       "      <th>x822</th>\n",
       "      <th>x823</th>\n",
       "      <th>x824</th>\n",
       "      <th>x825</th>\n",
       "      <th>x826</th>\n",
       "      <th>x827</th>\n",
       "      <th>x828</th>\n",
       "      <th>x829</th>\n",
       "      <th>x830</th>\n",
       "      <th>x831</th>\n",
       "    </tr>\n",
       "  </thead>\n",
       "  <tbody>\n",
       "    <tr>\n",
       "      <th>806</th>\n",
       "      <td>0.000401</td>\n",
       "      <td>0.001566</td>\n",
       "      <td>0.000971</td>\n",
       "      <td>-1.898010e-04</td>\n",
       "      <td>-0.473492</td>\n",
       "      <td>-0.000480</td>\n",
       "      <td>-0.000385</td>\n",
       "      <td>-0.001698</td>\n",
       "      <td>0.000037</td>\n",
       "      <td>-0.072864</td>\n",
       "      <td>...</td>\n",
       "      <td>0.000144</td>\n",
       "      <td>0.000465</td>\n",
       "      <td>-0.000631</td>\n",
       "      <td>0.195912</td>\n",
       "      <td>0.002024</td>\n",
       "      <td>0.002457</td>\n",
       "      <td>-1.034119</td>\n",
       "      <td>0.004054</td>\n",
       "      <td>0.051652</td>\n",
       "      <td>0.001229</td>\n",
       "    </tr>\n",
       "    <tr>\n",
       "      <th>591</th>\n",
       "      <td>-0.000506</td>\n",
       "      <td>0.000010</td>\n",
       "      <td>-0.002455</td>\n",
       "      <td>-6.222288e-05</td>\n",
       "      <td>0.243028</td>\n",
       "      <td>-0.121647</td>\n",
       "      <td>0.000271</td>\n",
       "      <td>-0.002193</td>\n",
       "      <td>-0.005757</td>\n",
       "      <td>-0.609136</td>\n",
       "      <td>...</td>\n",
       "      <td>-0.001448</td>\n",
       "      <td>-0.000333</td>\n",
       "      <td>-0.004205</td>\n",
       "      <td>-0.312476</td>\n",
       "      <td>0.061154</td>\n",
       "      <td>0.000112</td>\n",
       "      <td>0.727801</td>\n",
       "      <td>-0.000689</td>\n",
       "      <td>0.030222</td>\n",
       "      <td>0.001004</td>\n",
       "    </tr>\n",
       "    <tr>\n",
       "      <th>361</th>\n",
       "      <td>-0.000017</td>\n",
       "      <td>0.000093</td>\n",
       "      <td>0.002247</td>\n",
       "      <td>-3.355576e-08</td>\n",
       "      <td>-0.006433</td>\n",
       "      <td>0.069583</td>\n",
       "      <td>0.000017</td>\n",
       "      <td>-0.006196</td>\n",
       "      <td>-0.005941</td>\n",
       "      <td>-1.007904</td>\n",
       "      <td>...</td>\n",
       "      <td>-0.000173</td>\n",
       "      <td>0.000086</td>\n",
       "      <td>-0.000989</td>\n",
       "      <td>-0.089989</td>\n",
       "      <td>0.235401</td>\n",
       "      <td>-0.001400</td>\n",
       "      <td>-2.217684</td>\n",
       "      <td>-0.005465</td>\n",
       "      <td>-0.058736</td>\n",
       "      <td>0.000620</td>\n",
       "    </tr>\n",
       "    <tr>\n",
       "      <th>266</th>\n",
       "      <td>-0.000227</td>\n",
       "      <td>-0.000022</td>\n",
       "      <td>-0.000640</td>\n",
       "      <td>-1.917863e-04</td>\n",
       "      <td>0.002499</td>\n",
       "      <td>-0.319502</td>\n",
       "      <td>0.000269</td>\n",
       "      <td>-0.005150</td>\n",
       "      <td>-0.006275</td>\n",
       "      <td>-0.917006</td>\n",
       "      <td>...</td>\n",
       "      <td>0.000226</td>\n",
       "      <td>0.000460</td>\n",
       "      <td>0.002538</td>\n",
       "      <td>-0.251294</td>\n",
       "      <td>0.086133</td>\n",
       "      <td>-0.001476</td>\n",
       "      <td>4.535187</td>\n",
       "      <td>-0.001200</td>\n",
       "      <td>0.003431</td>\n",
       "      <td>-0.000651</td>\n",
       "    </tr>\n",
       "    <tr>\n",
       "      <th>879</th>\n",
       "      <td>-0.000103</td>\n",
       "      <td>-0.000722</td>\n",
       "      <td>0.001123</td>\n",
       "      <td>7.499469e-05</td>\n",
       "      <td>-0.346855</td>\n",
       "      <td>0.225285</td>\n",
       "      <td>-0.001076</td>\n",
       "      <td>0.006932</td>\n",
       "      <td>0.004788</td>\n",
       "      <td>-0.399058</td>\n",
       "      <td>...</td>\n",
       "      <td>-0.000804</td>\n",
       "      <td>-0.000209</td>\n",
       "      <td>0.003437</td>\n",
       "      <td>-0.384839</td>\n",
       "      <td>-0.163415</td>\n",
       "      <td>-0.004382</td>\n",
       "      <td>-6.492582</td>\n",
       "      <td>0.003093</td>\n",
       "      <td>0.054740</td>\n",
       "      <td>0.000021</td>\n",
       "    </tr>\n",
       "    <tr>\n",
       "      <th>...</th>\n",
       "      <td>...</td>\n",
       "      <td>...</td>\n",
       "      <td>...</td>\n",
       "      <td>...</td>\n",
       "      <td>...</td>\n",
       "      <td>...</td>\n",
       "      <td>...</td>\n",
       "      <td>...</td>\n",
       "      <td>...</td>\n",
       "      <td>...</td>\n",
       "      <td>...</td>\n",
       "      <td>...</td>\n",
       "      <td>...</td>\n",
       "      <td>...</td>\n",
       "      <td>...</td>\n",
       "      <td>...</td>\n",
       "      <td>...</td>\n",
       "      <td>...</td>\n",
       "      <td>...</td>\n",
       "      <td>...</td>\n",
       "      <td>...</td>\n",
       "    </tr>\n",
       "    <tr>\n",
       "      <th>1044</th>\n",
       "      <td>-0.000021</td>\n",
       "      <td>0.000185</td>\n",
       "      <td>-0.000699</td>\n",
       "      <td>-1.442587e-04</td>\n",
       "      <td>-0.306512</td>\n",
       "      <td>-0.074619</td>\n",
       "      <td>0.001326</td>\n",
       "      <td>0.000268</td>\n",
       "      <td>0.001991</td>\n",
       "      <td>-0.036737</td>\n",
       "      <td>...</td>\n",
       "      <td>0.000127</td>\n",
       "      <td>0.000096</td>\n",
       "      <td>-0.000631</td>\n",
       "      <td>0.605737</td>\n",
       "      <td>-0.246015</td>\n",
       "      <td>0.001750</td>\n",
       "      <td>-0.520480</td>\n",
       "      <td>0.000031</td>\n",
       "      <td>0.010332</td>\n",
       "      <td>0.001710</td>\n",
       "    </tr>\n",
       "    <tr>\n",
       "      <th>1095</th>\n",
       "      <td>-0.000132</td>\n",
       "      <td>-0.000567</td>\n",
       "      <td>-0.001448</td>\n",
       "      <td>4.730944e-05</td>\n",
       "      <td>-0.298873</td>\n",
       "      <td>-0.045282</td>\n",
       "      <td>-0.002531</td>\n",
       "      <td>0.004641</td>\n",
       "      <td>-0.004720</td>\n",
       "      <td>-0.540256</td>\n",
       "      <td>...</td>\n",
       "      <td>0.000935</td>\n",
       "      <td>0.000117</td>\n",
       "      <td>-0.001329</td>\n",
       "      <td>-0.557548</td>\n",
       "      <td>0.015850</td>\n",
       "      <td>0.001357</td>\n",
       "      <td>5.579982</td>\n",
       "      <td>-0.005231</td>\n",
       "      <td>-0.048276</td>\n",
       "      <td>-0.000989</td>\n",
       "    </tr>\n",
       "    <tr>\n",
       "      <th>1130</th>\n",
       "      <td>-0.000309</td>\n",
       "      <td>-0.000030</td>\n",
       "      <td>-0.001530</td>\n",
       "      <td>-3.355576e-08</td>\n",
       "      <td>0.501975</td>\n",
       "      <td>0.017081</td>\n",
       "      <td>-0.000698</td>\n",
       "      <td>-0.000002</td>\n",
       "      <td>0.005510</td>\n",
       "      <td>0.613534</td>\n",
       "      <td>...</td>\n",
       "      <td>-0.000159</td>\n",
       "      <td>0.000536</td>\n",
       "      <td>-0.000631</td>\n",
       "      <td>-0.217634</td>\n",
       "      <td>0.422561</td>\n",
       "      <td>0.000151</td>\n",
       "      <td>1.636514</td>\n",
       "      <td>0.002245</td>\n",
       "      <td>0.042246</td>\n",
       "      <td>0.000203</td>\n",
       "    </tr>\n",
       "    <tr>\n",
       "      <th>860</th>\n",
       "      <td>0.000496</td>\n",
       "      <td>0.000957</td>\n",
       "      <td>0.003818</td>\n",
       "      <td>3.365401e-05</td>\n",
       "      <td>0.598835</td>\n",
       "      <td>-0.024605</td>\n",
       "      <td>0.001083</td>\n",
       "      <td>-0.000512</td>\n",
       "      <td>-0.001144</td>\n",
       "      <td>-0.853322</td>\n",
       "      <td>...</td>\n",
       "      <td>-0.002345</td>\n",
       "      <td>0.000550</td>\n",
       "      <td>0.007706</td>\n",
       "      <td>-0.231944</td>\n",
       "      <td>0.589076</td>\n",
       "      <td>0.003152</td>\n",
       "      <td>1.524929</td>\n",
       "      <td>0.003915</td>\n",
       "      <td>-0.008156</td>\n",
       "      <td>-0.002422</td>\n",
       "    </tr>\n",
       "    <tr>\n",
       "      <th>1126</th>\n",
       "      <td>0.000677</td>\n",
       "      <td>0.000666</td>\n",
       "      <td>0.001073</td>\n",
       "      <td>1.094302e-04</td>\n",
       "      <td>0.250039</td>\n",
       "      <td>-0.005299</td>\n",
       "      <td>0.000209</td>\n",
       "      <td>-0.000002</td>\n",
       "      <td>0.005601</td>\n",
       "      <td>0.377086</td>\n",
       "      <td>...</td>\n",
       "      <td>-0.000387</td>\n",
       "      <td>0.000103</td>\n",
       "      <td>-0.000631</td>\n",
       "      <td>-0.086680</td>\n",
       "      <td>-0.430835</td>\n",
       "      <td>0.001262</td>\n",
       "      <td>-4.212191</td>\n",
       "      <td>-0.000355</td>\n",
       "      <td>0.002747</td>\n",
       "      <td>0.000086</td>\n",
       "    </tr>\n",
       "  </tbody>\n",
       "</table>\n",
       "<p>969 rows × 828 columns</p>\n",
       "</div>"
      ],
      "text/plain": [
       "            x0        x1        x2            x3        x4        x5  \\\n",
       "806   0.000401  0.001566  0.000971 -1.898010e-04 -0.473492 -0.000480   \n",
       "591  -0.000506  0.000010 -0.002455 -6.222288e-05  0.243028 -0.121647   \n",
       "361  -0.000017  0.000093  0.002247 -3.355576e-08 -0.006433  0.069583   \n",
       "266  -0.000227 -0.000022 -0.000640 -1.917863e-04  0.002499 -0.319502   \n",
       "879  -0.000103 -0.000722  0.001123  7.499469e-05 -0.346855  0.225285   \n",
       "...        ...       ...       ...           ...       ...       ...   \n",
       "1044 -0.000021  0.000185 -0.000699 -1.442587e-04 -0.306512 -0.074619   \n",
       "1095 -0.000132 -0.000567 -0.001448  4.730944e-05 -0.298873 -0.045282   \n",
       "1130 -0.000309 -0.000030 -0.001530 -3.355576e-08  0.501975  0.017081   \n",
       "860   0.000496  0.000957  0.003818  3.365401e-05  0.598835 -0.024605   \n",
       "1126  0.000677  0.000666  0.001073  1.094302e-04  0.250039 -0.005299   \n",
       "\n",
       "            x6        x7        x8        x9  ...      x822      x823  \\\n",
       "806  -0.000385 -0.001698  0.000037 -0.072864  ...  0.000144  0.000465   \n",
       "591   0.000271 -0.002193 -0.005757 -0.609136  ... -0.001448 -0.000333   \n",
       "361   0.000017 -0.006196 -0.005941 -1.007904  ... -0.000173  0.000086   \n",
       "266   0.000269 -0.005150 -0.006275 -0.917006  ...  0.000226  0.000460   \n",
       "879  -0.001076  0.006932  0.004788 -0.399058  ... -0.000804 -0.000209   \n",
       "...        ...       ...       ...       ...  ...       ...       ...   \n",
       "1044  0.001326  0.000268  0.001991 -0.036737  ...  0.000127  0.000096   \n",
       "1095 -0.002531  0.004641 -0.004720 -0.540256  ...  0.000935  0.000117   \n",
       "1130 -0.000698 -0.000002  0.005510  0.613534  ... -0.000159  0.000536   \n",
       "860   0.001083 -0.000512 -0.001144 -0.853322  ... -0.002345  0.000550   \n",
       "1126  0.000209 -0.000002  0.005601  0.377086  ... -0.000387  0.000103   \n",
       "\n",
       "          x824      x825      x826      x827      x828      x829      x830  \\\n",
       "806  -0.000631  0.195912  0.002024  0.002457 -1.034119  0.004054  0.051652   \n",
       "591  -0.004205 -0.312476  0.061154  0.000112  0.727801 -0.000689  0.030222   \n",
       "361  -0.000989 -0.089989  0.235401 -0.001400 -2.217684 -0.005465 -0.058736   \n",
       "266   0.002538 -0.251294  0.086133 -0.001476  4.535187 -0.001200  0.003431   \n",
       "879   0.003437 -0.384839 -0.163415 -0.004382 -6.492582  0.003093  0.054740   \n",
       "...        ...       ...       ...       ...       ...       ...       ...   \n",
       "1044 -0.000631  0.605737 -0.246015  0.001750 -0.520480  0.000031  0.010332   \n",
       "1095 -0.001329 -0.557548  0.015850  0.001357  5.579982 -0.005231 -0.048276   \n",
       "1130 -0.000631 -0.217634  0.422561  0.000151  1.636514  0.002245  0.042246   \n",
       "860   0.007706 -0.231944  0.589076  0.003152  1.524929  0.003915 -0.008156   \n",
       "1126 -0.000631 -0.086680 -0.430835  0.001262 -4.212191 -0.000355  0.002747   \n",
       "\n",
       "          x831  \n",
       "806   0.001229  \n",
       "591   0.001004  \n",
       "361   0.000620  \n",
       "266  -0.000651  \n",
       "879   0.000021  \n",
       "...        ...  \n",
       "1044  0.001710  \n",
       "1095 -0.000989  \n",
       "1130  0.000203  \n",
       "860  -0.002422  \n",
       "1126  0.000086  \n",
       "\n",
       "[969 rows x 828 columns]"
      ]
     },
     "execution_count": 9,
     "metadata": {},
     "output_type": "execute_result"
    }
   ],
   "source": [
    "d = {}\n",
    "for col in X_norm.columns:\n",
    "    Q1, Q3 = np.percentile(X_norm[col],25), np.percentile(X_norm[col],75)\n",
    "    IQR = Q3 - Q1\n",
    "    outlier_step = IQR * 2\n",
    "    lower_range = Q1 - (outlier_step)\n",
    "    upper_range = Q3 + (outlier_step)\n",
    "    d[col] = (lower_range, upper_range)\n",
    "for i, row in X_norm.iterrows():\n",
    "    for col in X_norm.columns:\n",
    "        if row[col] < d[col][0] or row[col] > d[col][1]:\n",
    "            X_norm.loc[i,col]=0\n",
    "X_norm"
   ]
  },
  {
   "cell_type": "markdown",
   "id": "4cfe4871",
   "metadata": {},
   "source": [
    "### Handling feature selections"
   ]
  },
  {
   "cell_type": "code",
   "execution_count": 10,
   "id": "9ba02e04",
   "metadata": {},
   "outputs": [
    {
     "name": "stdout",
     "output_type": "stream",
     "text": [
      "         y\n",
      "806   63.0\n",
      "591   80.0\n",
      "361   54.0\n",
      "266   73.0\n",
      "879   55.0\n",
      "...    ...\n",
      "1044  86.0\n",
      "1095  79.0\n",
      "1130  74.0\n",
      "860   63.0\n",
      "1126  77.0\n",
      "\n",
      "[969 rows x 1 columns]\n"
     ]
    }
   ],
   "source": [
    "print(y_train)"
   ]
  },
  {
   "cell_type": "code",
   "execution_count": 11,
   "id": "c94b05a8",
   "metadata": {},
   "outputs": [
    {
     "data": {
      "text/html": [
       "<style>#sk-container-id-1 {color: black;background-color: white;}#sk-container-id-1 pre{padding: 0;}#sk-container-id-1 div.sk-toggleable {background-color: white;}#sk-container-id-1 label.sk-toggleable__label {cursor: pointer;display: block;width: 100%;margin-bottom: 0;padding: 0.3em;box-sizing: border-box;text-align: center;}#sk-container-id-1 label.sk-toggleable__label-arrow:before {content: \"▸\";float: left;margin-right: 0.25em;color: #696969;}#sk-container-id-1 label.sk-toggleable__label-arrow:hover:before {color: black;}#sk-container-id-1 div.sk-estimator:hover label.sk-toggleable__label-arrow:before {color: black;}#sk-container-id-1 div.sk-toggleable__content {max-height: 0;max-width: 0;overflow: hidden;text-align: left;background-color: #f0f8ff;}#sk-container-id-1 div.sk-toggleable__content pre {margin: 0.2em;color: black;border-radius: 0.25em;background-color: #f0f8ff;}#sk-container-id-1 input.sk-toggleable__control:checked~div.sk-toggleable__content {max-height: 200px;max-width: 100%;overflow: auto;}#sk-container-id-1 input.sk-toggleable__control:checked~label.sk-toggleable__label-arrow:before {content: \"▾\";}#sk-container-id-1 div.sk-estimator input.sk-toggleable__control:checked~label.sk-toggleable__label {background-color: #d4ebff;}#sk-container-id-1 div.sk-label input.sk-toggleable__control:checked~label.sk-toggleable__label {background-color: #d4ebff;}#sk-container-id-1 input.sk-hidden--visually {border: 0;clip: rect(1px 1px 1px 1px);clip: rect(1px, 1px, 1px, 1px);height: 1px;margin: -1px;overflow: hidden;padding: 0;position: absolute;width: 1px;}#sk-container-id-1 div.sk-estimator {font-family: monospace;background-color: #f0f8ff;border: 1px dotted black;border-radius: 0.25em;box-sizing: border-box;margin-bottom: 0.5em;}#sk-container-id-1 div.sk-estimator:hover {background-color: #d4ebff;}#sk-container-id-1 div.sk-parallel-item::after {content: \"\";width: 100%;border-bottom: 1px solid gray;flex-grow: 1;}#sk-container-id-1 div.sk-label:hover label.sk-toggleable__label {background-color: #d4ebff;}#sk-container-id-1 div.sk-serial::before {content: \"\";position: absolute;border-left: 1px solid gray;box-sizing: border-box;top: 0;bottom: 0;left: 50%;z-index: 0;}#sk-container-id-1 div.sk-serial {display: flex;flex-direction: column;align-items: center;background-color: white;padding-right: 0.2em;padding-left: 0.2em;position: relative;}#sk-container-id-1 div.sk-item {position: relative;z-index: 1;}#sk-container-id-1 div.sk-parallel {display: flex;align-items: stretch;justify-content: center;background-color: white;position: relative;}#sk-container-id-1 div.sk-item::before, #sk-container-id-1 div.sk-parallel-item::before {content: \"\";position: absolute;border-left: 1px solid gray;box-sizing: border-box;top: 0;bottom: 0;left: 50%;z-index: -1;}#sk-container-id-1 div.sk-parallel-item {display: flex;flex-direction: column;z-index: 1;position: relative;background-color: white;}#sk-container-id-1 div.sk-parallel-item:first-child::after {align-self: flex-end;width: 50%;}#sk-container-id-1 div.sk-parallel-item:last-child::after {align-self: flex-start;width: 50%;}#sk-container-id-1 div.sk-parallel-item:only-child::after {width: 0;}#sk-container-id-1 div.sk-dashed-wrapped {border: 1px dashed gray;margin: 0 0.4em 0.5em 0.4em;box-sizing: border-box;padding-bottom: 0.4em;background-color: white;}#sk-container-id-1 div.sk-label label {font-family: monospace;font-weight: bold;display: inline-block;line-height: 1.2em;}#sk-container-id-1 div.sk-label-container {text-align: center;}#sk-container-id-1 div.sk-container {/* jupyter's `normalize.less` sets `[hidden] { display: none; }` but bootstrap.min.css set `[hidden] { display: none !important; }` so we also need the `!important` here to be able to override the default hidden behavior on the sphinx rendered scikit-learn.org. See: https://github.com/scikit-learn/scikit-learn/issues/21755 */display: inline-block !important;position: relative;}#sk-container-id-1 div.sk-text-repr-fallback {display: none;}</style><div id=\"sk-container-id-1\" class=\"sk-top-container\"><div class=\"sk-text-repr-fallback\"><pre>Lasso()</pre><b>In a Jupyter environment, please rerun this cell to show the HTML representation or trust the notebook. <br />On GitHub, the HTML representation is unable to render, please try loading this page with nbviewer.org.</b></div><div class=\"sk-container\" hidden><div class=\"sk-item\"><div class=\"sk-estimator sk-toggleable\"><input class=\"sk-toggleable__control sk-hidden--visually\" id=\"sk-estimator-id-1\" type=\"checkbox\" checked><label for=\"sk-estimator-id-1\" class=\"sk-toggleable__label sk-toggleable__label-arrow\">Lasso</label><div class=\"sk-toggleable__content\"><pre>Lasso()</pre></div></div></div></div></div>"
      ],
      "text/plain": [
       "Lasso()"
      ]
     },
     "execution_count": 11,
     "metadata": {},
     "output_type": "execute_result"
    }
   ],
   "source": [
    "lasso = Lasso()\n",
    "lasso.fit(X_norm, y_train)"
   ]
  },
  {
   "cell_type": "code",
   "execution_count": 12,
   "id": "88cfb42f",
   "metadata": {},
   "outputs": [
    {
     "data": {
      "text/plain": [
       "0.0"
      ]
     },
     "execution_count": 12,
     "metadata": {},
     "output_type": "execute_result"
    }
   ],
   "source": [
    "lasso.coef_[1]"
   ]
  },
  {
   "cell_type": "code",
   "execution_count": 13,
   "id": "c39fada7",
   "metadata": {},
   "outputs": [
    {
     "name": "stdout",
     "output_type": "stream",
     "text": [
      "[ 0.          0.         -0.         -0.          0.         -0.\n",
      " -0.         -0.          0.          0.         -0.         -0.\n",
      " -0.         -0.          0.         -0.         -0.         -0.\n",
      "  0.         -0.          0.         -0.          0.         -0.\n",
      " -0.         -0.         -0.         -0.         -0.         -0.\n",
      "  0.          0.         -0.          0.00887399  0.         -0.\n",
      "  0.          0.         -0.          0.          0.         -0.\n",
      "  0.         -0.         -0.         -0.         -0.          0.\n",
      " -0.         -0.         -0.         -0.          0.          0.\n",
      "  0.          0.         -0.         -0.          0.          0.\n",
      "  0.          0.          0.         -0.         -0.         -0.\n",
      " -0.         -0.00757851 -0.01098024 -0.         -0.         -0.\n",
      " -0.          0.          0.          0.         -0.         -0.\n",
      "  0.          0.         -0.          0.          0.          0.\n",
      " -0.          0.          0.         -0.          0.          0.\n",
      " -0.         -0.          0.24222364  0.          0.         -0.\n",
      " -0.         -0.         -0.         -0.         -0.         -0.\n",
      "  0.          0.         -0.          0.          0.         -0.\n",
      "  0.         -0.0015271   0.         -0.         -0.          0.03204027\n",
      "  0.          0.         -0.05320265 -0.          0.         -0.\n",
      " -0.         -0.         -0.          0.         -0.          0.\n",
      " -0.          0.         -0.          0.          0.         -0.\n",
      " -0.          0.         -0.         -0.          0.          0.\n",
      " -0.         -0.          0.         -0.         -0.         -0.\n",
      " -0.          0.00138005 -0.         -0.         -0.          0.\n",
      " -0.         -0.         -0.         -0.         -0.          0.\n",
      "  0.          0.         -0.          0.         -0.         -0.\n",
      "  0.          0.         -0.00248239 -0.          0.         -0.\n",
      "  0.          0.         -0.071344   -0.          0.         -0.\n",
      " -0.         -0.          0.         -0.00225911 -0.          0.\n",
      "  0.         -0.00234555 -0.         -0.01463932 -0.          0.\n",
      "  0.         -0.00182872 -0.          0.          0.         -0.\n",
      " -0.34843438 -0.00477375 -0.00855504 -0.          0.          0.\n",
      " -0.          0.         -0.         -0.         -0.          0.\n",
      "  0.         -0.00658639 -0.0020194  -0.          0.         -0.\n",
      "  0.          0.         -0.0656226   0.         -0.         -0.\n",
      "  0.         -0.         -0.         -0.         -0.          0.05693328\n",
      " -0.          0.         -0.          0.          0.         -0.0022049\n",
      "  0.          0.         -0.          0.          0.          0.\n",
      "  0.         -0.         -0.          0.          0.          0.\n",
      " -0.         -0.         -0.          0.03081476  0.         -0.\n",
      " -0.         -0.          0.          0.         -0.          0.\n",
      " -0.          0.          0.          0.         -0.          0.\n",
      " -0.          0.          0.00134891 -0.         -0.          0.\n",
      "  0.         -0.         -0.          0.         -0.         -0.01933675\n",
      " -0.          0.          0.          0.         -0.          0.\n",
      " -0.         -0.          0.         -0.00061905 -0.         -0.\n",
      " -0.          0.          0.         -0.          0.         -0.0072324\n",
      " -0.         -0.          0.00191116  0.         -0.          0.00139746\n",
      " -0.00891773  0.          0.         -0.         -0.         -0.\n",
      "  0.         -0.          0.         -0.00204175 -0.01813853 -0.0072332\n",
      "  0.         -0.         -0.         -0.         -0.          0.\n",
      "  0.         -0.         -0.          0.          0.          0.\n",
      " -0.          0.          0.          0.          0.         -0.\n",
      " -0.         -0.          0.          0.          0.         -0.\n",
      "  0.         -0.         -0.          0.         -0.00150294  0.\n",
      "  0.01119172 -0.         -0.         -0.         -0.         -0.\n",
      "  0.         -0.          0.         -0.         -0.         -0.0979348\n",
      " -0.          0.         -0.         -0.         -0.          0.\n",
      "  0.         -0.          0.0199346   0.         -0.          0.\n",
      " -0.09859942  0.00637286  0.          0.          0.          0.\n",
      " -0.         -0.          0.          0.          0.         -0.\n",
      "  0.         -0.          0.          0.         -0.         -0.\n",
      "  0.         -0.          0.         -0.         -0.0061653  -0.\n",
      " -0.          0.         -0.         -0.          0.          0.\n",
      "  0.          0.         -0.          0.          0.          0.\n",
      "  0.         -0.          0.         -0.         -0.         -0.\n",
      " -0.          0.         -0.         -0.         -0.         -0.\n",
      " -0.          0.         -0.          0.         -0.          0.\n",
      " -0.          0.         -0.          0.          0.         -0.\n",
      " -0.         -0.         -0.         -0.          0.          0.\n",
      " -0.         -0.         -0.         -0.         -0.         -0.\n",
      " -0.         -0.         -0.         -0.          0.         -0.\n",
      " -0.          0.          0.          0.          0.         -0.\n",
      " -0.00269782 -0.         -0.          0.         -0.00895435  0.\n",
      "  0.         -0.          0.         -0.0294936  -0.         -0.\n",
      "  0.          0.         -0.         -0.         -0.00504721  0.\n",
      " -0.         -0.         -0.          0.         -0.          0.0452295\n",
      " -0.          0.         -0.          0.          0.         -0.\n",
      "  0.          0.         -0.         -0.          0.         -0.\n",
      " -0.          0.          0.         -0.33997293  0.          0.\n",
      "  0.          0.          0.         -0.00594684  0.         -0.\n",
      "  0.         -0.09994945  0.          0.         -0.          0.0073611\n",
      "  0.         -0.         -0.          0.          0.         -0.\n",
      "  0.          0.         -0.          0.          0.         -0.\n",
      " -0.         -0.          0.         -0.         -0.01312319  0.\n",
      " -0.00110516 -0.          0.         -0.          0.          0.\n",
      " -0.          0.         -0.04138379 -0.         -0.         -0.\n",
      "  0.         -0.         -0.         -0.         -0.          0.\n",
      " -0.         -0.          0.         -0.          0.         -0.04307152\n",
      " -0.         -0.         -0.         -0.          0.00678895 -0.\n",
      " -0.00780103  0.          0.         -0.          0.         -0.\n",
      "  0.00360165 -0.06587189 -0.17634927  0.          0.          0.\n",
      " -0.          0.          0.          0.          0.         -0.\n",
      "  0.          0.         -0.          0.          0.          0.\n",
      "  0.         -0.          0.          0.          0.          0.\n",
      " -0.01663601  0.          0.         -0.00360201 -0.         -0.\n",
      " -0.00676601 -0.         -0.          0.         -0.         -0.\n",
      " -0.          0.00440193 -0.01105046  0.          0.          0.\n",
      "  0.          0.          0.         -0.         -0.         -0.07355309\n",
      " -0.          0.00686713  0.          0.         -0.          0.\n",
      " -0.          0.         -0.03451008 -0.06109365  0.         -0.\n",
      " -0.          0.         -0.          0.         -0.00190419 -0.\n",
      "  0.         -0.         -0.          0.02027445  0.         -0.\n",
      "  0.          0.         -0.         -0.         -0.          0.\n",
      " -0.         -0.         -0.          0.          0.          0.\n",
      " -0.08389365  0.          0.22761719 -0.         -0.          0.\n",
      "  0.          0.         -0.         -0.          0.          0.\n",
      " -0.          0.         -0.0744081   0.         -0.          0.\n",
      "  0.         -0.         -0.06127053 -0.         -0.          0.\n",
      "  0.         -0.         -0.          0.         -0.          0.\n",
      "  0.         -0.         -0.         -0.          0.         -0.\n",
      "  0.          0.          0.          0.00341993  0.          0.\n",
      " -0.00955613 -0.         -0.         -0.         -0.         -0.\n",
      " -0.         -0.          0.          0.         -0.          0.\n",
      "  0.         -0.          0.0985567  -0.          0.          0.\n",
      " -0.         -0.          0.         -0.         -0.          0.\n",
      "  0.09197079 -0.         -0.         -0.00515809 -0.         -0.\n",
      " -0.14620691 -0.          0.         -0.          0.          0.\n",
      " -0.          0.         -0.          0.         -0.          0.\n",
      "  0.00994562  0.         -0.         -0.          0.         -0.\n",
      " -0.         -0.         -0.         -0.          0.          0.\n",
      " -0.          0.          0.          0.          0.         -0.\n",
      " -0.         -0.         -0.04117539 -0.06049928 -0.          0.\n",
      " -0.0548676   0.         -0.          0.         -0.         -0.\n",
      " -0.         -0.00092426 -0.          0.          0.         -0.\n",
      " -0.         -0.         -0.          0.          0.          0.\n",
      " -0.02347065  0.         -0.          0.01137308 -0.         -0.\n",
      " -0.         -0.         -0.          0.          0.         -0.\n",
      "  0.         -0.          0.         -0.         -0.0055719   0.\n",
      "  0.         -0.          0.          0.         -0.         -0.\n",
      "  0.         -0.         -0.         -0.          0.         -0.\n",
      "  0.          0.         -0.         -0.         -0.          0.02050155\n",
      "  0.         -0.00250987  0.         -0.         -0.         -0.\n",
      "  0.          0.          0.         -0.         -0.          0.\n",
      " -0.         -0.00622082  0.         -0.00242222 -0.         -0.\n",
      " -0.         -0.         -0.         -0.          0.         -0.\n",
      "  0.          0.          0.03539094  0.          0.          0.        ]\n"
     ]
    },
    {
     "data": {
      "text/plain": [
       "92"
      ]
     },
     "execution_count": 13,
     "metadata": {},
     "output_type": "execute_result"
    }
   ],
   "source": [
    "print(lasso.coef_)\n",
    "len([coef for coef in lasso.coef_ if coef!=0])"
   ]
  },
  {
   "cell_type": "code",
   "execution_count": 20,
   "id": "49d975d4",
   "metadata": {},
   "outputs": [
    {
     "data": {
      "application/vnd.plotly.v1+json": {
       "config": {
        "plotlyServerURL": "https://plot.ly"
       },
       "data": [
        {
         "alignmentgroup": "True",
         "hovertemplate": "pca=%{x}<br>sv=%{y}<extra></extra>",
         "legendgroup": "",
         "marker": {
          "color": "#636efa",
          "pattern": {
           "shape": ""
          }
         },
         "name": "",
         "offsetgroup": "",
         "orientation": "v",
         "showlegend": false,
         "textposition": "auto",
         "type": "bar",
         "x": [
          "pca0",
          "pca1",
          "pca2",
          "pca3",
          "pca4",
          "pca5",
          "pca6",
          "pca7",
          "pca8",
          "pca9",
          "pca10",
          "pca11",
          "pca12",
          "pca13",
          "pca14",
          "pca15",
          "pca16",
          "pca17",
          "pca18",
          "pca19",
          "pca20",
          "pca21",
          "pca22",
          "pca23",
          "pca24",
          "pca25",
          "pca26",
          "pca27",
          "pca28",
          "pca29",
          "pca30",
          "pca31",
          "pca32",
          "pca33",
          "pca34",
          "pca35",
          "pca36",
          "pca37",
          "pca38",
          "pca39",
          "pca40",
          "pca41",
          "pca42",
          "pca43",
          "pca44",
          "pca45",
          "pca46",
          "pca47",
          "pca48",
          "pca49"
         ],
         "xaxis": "x",
         "y": [
          1378.5603048804812,
          1344.900060609993,
          1340.154622334184,
          1329.1507120406877,
          1327.1849557929065,
          1299.8264722603392,
          1285.8561505615053,
          1266.053812784268,
          1259.7602213539385,
          1255.296157564003,
          1242.398243422029,
          1235.908453492949,
          1224.5446220133492,
          1223.3270974459163,
          1216.231567997971,
          1204.9355694369146,
          1203.0619458619994,
          1194.802837712843,
          1183.296388165033,
          1178.4182640665538,
          1168.168875624947,
          1155.203766508802,
          1141.3216821744902,
          1135.3254273082755,
          1127.1748547029438,
          1119.1095181030776,
          1115.2711504910578,
          1106.6176821301826,
          1098.829356126523,
          1091.4346580541135,
          1080.2327808477523,
          1074.1899410888561,
          1065.765469285657,
          1060.2015878136847,
          1051.5329980986276,
          1047.4029727532493,
          1042.7929467200277,
          1033.958646662286,
          1025.1232570941233,
          1014.6274863309956,
          1009.42819061725,
          1000.8095551556507,
          990.4389171405556,
          985.0476354896662,
          976.3923210360256,
          969.6290193910049,
          962.2752191066866,
          947.3543470573536,
          942.1712713980586,
          929.2991519856341
         ],
         "yaxis": "y"
        }
       ],
       "layout": {
        "barmode": "relative",
        "legend": {
         "tracegroupgap": 0
        },
        "margin": {
         "t": 60
        },
        "template": {
         "data": {
          "bar": [
           {
            "error_x": {
             "color": "#2a3f5f"
            },
            "error_y": {
             "color": "#2a3f5f"
            },
            "marker": {
             "line": {
              "color": "#E5ECF6",
              "width": 0.5
             },
             "pattern": {
              "fillmode": "overlay",
              "size": 10,
              "solidity": 0.2
             }
            },
            "type": "bar"
           }
          ],
          "barpolar": [
           {
            "marker": {
             "line": {
              "color": "#E5ECF6",
              "width": 0.5
             },
             "pattern": {
              "fillmode": "overlay",
              "size": 10,
              "solidity": 0.2
             }
            },
            "type": "barpolar"
           }
          ],
          "carpet": [
           {
            "aaxis": {
             "endlinecolor": "#2a3f5f",
             "gridcolor": "white",
             "linecolor": "white",
             "minorgridcolor": "white",
             "startlinecolor": "#2a3f5f"
            },
            "baxis": {
             "endlinecolor": "#2a3f5f",
             "gridcolor": "white",
             "linecolor": "white",
             "minorgridcolor": "white",
             "startlinecolor": "#2a3f5f"
            },
            "type": "carpet"
           }
          ],
          "choropleth": [
           {
            "colorbar": {
             "outlinewidth": 0,
             "ticks": ""
            },
            "type": "choropleth"
           }
          ],
          "contour": [
           {
            "colorbar": {
             "outlinewidth": 0,
             "ticks": ""
            },
            "colorscale": [
             [
              0,
              "#0d0887"
             ],
             [
              0.1111111111111111,
              "#46039f"
             ],
             [
              0.2222222222222222,
              "#7201a8"
             ],
             [
              0.3333333333333333,
              "#9c179e"
             ],
             [
              0.4444444444444444,
              "#bd3786"
             ],
             [
              0.5555555555555556,
              "#d8576b"
             ],
             [
              0.6666666666666666,
              "#ed7953"
             ],
             [
              0.7777777777777778,
              "#fb9f3a"
             ],
             [
              0.8888888888888888,
              "#fdca26"
             ],
             [
              1,
              "#f0f921"
             ]
            ],
            "type": "contour"
           }
          ],
          "contourcarpet": [
           {
            "colorbar": {
             "outlinewidth": 0,
             "ticks": ""
            },
            "type": "contourcarpet"
           }
          ],
          "heatmap": [
           {
            "colorbar": {
             "outlinewidth": 0,
             "ticks": ""
            },
            "colorscale": [
             [
              0,
              "#0d0887"
             ],
             [
              0.1111111111111111,
              "#46039f"
             ],
             [
              0.2222222222222222,
              "#7201a8"
             ],
             [
              0.3333333333333333,
              "#9c179e"
             ],
             [
              0.4444444444444444,
              "#bd3786"
             ],
             [
              0.5555555555555556,
              "#d8576b"
             ],
             [
              0.6666666666666666,
              "#ed7953"
             ],
             [
              0.7777777777777778,
              "#fb9f3a"
             ],
             [
              0.8888888888888888,
              "#fdca26"
             ],
             [
              1,
              "#f0f921"
             ]
            ],
            "type": "heatmap"
           }
          ],
          "heatmapgl": [
           {
            "colorbar": {
             "outlinewidth": 0,
             "ticks": ""
            },
            "colorscale": [
             [
              0,
              "#0d0887"
             ],
             [
              0.1111111111111111,
              "#46039f"
             ],
             [
              0.2222222222222222,
              "#7201a8"
             ],
             [
              0.3333333333333333,
              "#9c179e"
             ],
             [
              0.4444444444444444,
              "#bd3786"
             ],
             [
              0.5555555555555556,
              "#d8576b"
             ],
             [
              0.6666666666666666,
              "#ed7953"
             ],
             [
              0.7777777777777778,
              "#fb9f3a"
             ],
             [
              0.8888888888888888,
              "#fdca26"
             ],
             [
              1,
              "#f0f921"
             ]
            ],
            "type": "heatmapgl"
           }
          ],
          "histogram": [
           {
            "marker": {
             "pattern": {
              "fillmode": "overlay",
              "size": 10,
              "solidity": 0.2
             }
            },
            "type": "histogram"
           }
          ],
          "histogram2d": [
           {
            "colorbar": {
             "outlinewidth": 0,
             "ticks": ""
            },
            "colorscale": [
             [
              0,
              "#0d0887"
             ],
             [
              0.1111111111111111,
              "#46039f"
             ],
             [
              0.2222222222222222,
              "#7201a8"
             ],
             [
              0.3333333333333333,
              "#9c179e"
             ],
             [
              0.4444444444444444,
              "#bd3786"
             ],
             [
              0.5555555555555556,
              "#d8576b"
             ],
             [
              0.6666666666666666,
              "#ed7953"
             ],
             [
              0.7777777777777778,
              "#fb9f3a"
             ],
             [
              0.8888888888888888,
              "#fdca26"
             ],
             [
              1,
              "#f0f921"
             ]
            ],
            "type": "histogram2d"
           }
          ],
          "histogram2dcontour": [
           {
            "colorbar": {
             "outlinewidth": 0,
             "ticks": ""
            },
            "colorscale": [
             [
              0,
              "#0d0887"
             ],
             [
              0.1111111111111111,
              "#46039f"
             ],
             [
              0.2222222222222222,
              "#7201a8"
             ],
             [
              0.3333333333333333,
              "#9c179e"
             ],
             [
              0.4444444444444444,
              "#bd3786"
             ],
             [
              0.5555555555555556,
              "#d8576b"
             ],
             [
              0.6666666666666666,
              "#ed7953"
             ],
             [
              0.7777777777777778,
              "#fb9f3a"
             ],
             [
              0.8888888888888888,
              "#fdca26"
             ],
             [
              1,
              "#f0f921"
             ]
            ],
            "type": "histogram2dcontour"
           }
          ],
          "mesh3d": [
           {
            "colorbar": {
             "outlinewidth": 0,
             "ticks": ""
            },
            "type": "mesh3d"
           }
          ],
          "parcoords": [
           {
            "line": {
             "colorbar": {
              "outlinewidth": 0,
              "ticks": ""
             }
            },
            "type": "parcoords"
           }
          ],
          "pie": [
           {
            "automargin": true,
            "type": "pie"
           }
          ],
          "scatter": [
           {
            "fillpattern": {
             "fillmode": "overlay",
             "size": 10,
             "solidity": 0.2
            },
            "type": "scatter"
           }
          ],
          "scatter3d": [
           {
            "line": {
             "colorbar": {
              "outlinewidth": 0,
              "ticks": ""
             }
            },
            "marker": {
             "colorbar": {
              "outlinewidth": 0,
              "ticks": ""
             }
            },
            "type": "scatter3d"
           }
          ],
          "scattercarpet": [
           {
            "marker": {
             "colorbar": {
              "outlinewidth": 0,
              "ticks": ""
             }
            },
            "type": "scattercarpet"
           }
          ],
          "scattergeo": [
           {
            "marker": {
             "colorbar": {
              "outlinewidth": 0,
              "ticks": ""
             }
            },
            "type": "scattergeo"
           }
          ],
          "scattergl": [
           {
            "marker": {
             "colorbar": {
              "outlinewidth": 0,
              "ticks": ""
             }
            },
            "type": "scattergl"
           }
          ],
          "scattermapbox": [
           {
            "marker": {
             "colorbar": {
              "outlinewidth": 0,
              "ticks": ""
             }
            },
            "type": "scattermapbox"
           }
          ],
          "scatterpolar": [
           {
            "marker": {
             "colorbar": {
              "outlinewidth": 0,
              "ticks": ""
             }
            },
            "type": "scatterpolar"
           }
          ],
          "scatterpolargl": [
           {
            "marker": {
             "colorbar": {
              "outlinewidth": 0,
              "ticks": ""
             }
            },
            "type": "scatterpolargl"
           }
          ],
          "scatterternary": [
           {
            "marker": {
             "colorbar": {
              "outlinewidth": 0,
              "ticks": ""
             }
            },
            "type": "scatterternary"
           }
          ],
          "surface": [
           {
            "colorbar": {
             "outlinewidth": 0,
             "ticks": ""
            },
            "colorscale": [
             [
              0,
              "#0d0887"
             ],
             [
              0.1111111111111111,
              "#46039f"
             ],
             [
              0.2222222222222222,
              "#7201a8"
             ],
             [
              0.3333333333333333,
              "#9c179e"
             ],
             [
              0.4444444444444444,
              "#bd3786"
             ],
             [
              0.5555555555555556,
              "#d8576b"
             ],
             [
              0.6666666666666666,
              "#ed7953"
             ],
             [
              0.7777777777777778,
              "#fb9f3a"
             ],
             [
              0.8888888888888888,
              "#fdca26"
             ],
             [
              1,
              "#f0f921"
             ]
            ],
            "type": "surface"
           }
          ],
          "table": [
           {
            "cells": {
             "fill": {
              "color": "#EBF0F8"
             },
             "line": {
              "color": "white"
             }
            },
            "header": {
             "fill": {
              "color": "#C8D4E3"
             },
             "line": {
              "color": "white"
             }
            },
            "type": "table"
           }
          ]
         },
         "layout": {
          "annotationdefaults": {
           "arrowcolor": "#2a3f5f",
           "arrowhead": 0,
           "arrowwidth": 1
          },
          "autotypenumbers": "strict",
          "coloraxis": {
           "colorbar": {
            "outlinewidth": 0,
            "ticks": ""
           }
          },
          "colorscale": {
           "diverging": [
            [
             0,
             "#8e0152"
            ],
            [
             0.1,
             "#c51b7d"
            ],
            [
             0.2,
             "#de77ae"
            ],
            [
             0.3,
             "#f1b6da"
            ],
            [
             0.4,
             "#fde0ef"
            ],
            [
             0.5,
             "#f7f7f7"
            ],
            [
             0.6,
             "#e6f5d0"
            ],
            [
             0.7,
             "#b8e186"
            ],
            [
             0.8,
             "#7fbc41"
            ],
            [
             0.9,
             "#4d9221"
            ],
            [
             1,
             "#276419"
            ]
           ],
           "sequential": [
            [
             0,
             "#0d0887"
            ],
            [
             0.1111111111111111,
             "#46039f"
            ],
            [
             0.2222222222222222,
             "#7201a8"
            ],
            [
             0.3333333333333333,
             "#9c179e"
            ],
            [
             0.4444444444444444,
             "#bd3786"
            ],
            [
             0.5555555555555556,
             "#d8576b"
            ],
            [
             0.6666666666666666,
             "#ed7953"
            ],
            [
             0.7777777777777778,
             "#fb9f3a"
            ],
            [
             0.8888888888888888,
             "#fdca26"
            ],
            [
             1,
             "#f0f921"
            ]
           ],
           "sequentialminus": [
            [
             0,
             "#0d0887"
            ],
            [
             0.1111111111111111,
             "#46039f"
            ],
            [
             0.2222222222222222,
             "#7201a8"
            ],
            [
             0.3333333333333333,
             "#9c179e"
            ],
            [
             0.4444444444444444,
             "#bd3786"
            ],
            [
             0.5555555555555556,
             "#d8576b"
            ],
            [
             0.6666666666666666,
             "#ed7953"
            ],
            [
             0.7777777777777778,
             "#fb9f3a"
            ],
            [
             0.8888888888888888,
             "#fdca26"
            ],
            [
             1,
             "#f0f921"
            ]
           ]
          },
          "colorway": [
           "#636efa",
           "#EF553B",
           "#00cc96",
           "#ab63fa",
           "#FFA15A",
           "#19d3f3",
           "#FF6692",
           "#B6E880",
           "#FF97FF",
           "#FECB52"
          ],
          "font": {
           "color": "#2a3f5f"
          },
          "geo": {
           "bgcolor": "white",
           "lakecolor": "white",
           "landcolor": "#E5ECF6",
           "showlakes": true,
           "showland": true,
           "subunitcolor": "white"
          },
          "hoverlabel": {
           "align": "left"
          },
          "hovermode": "closest",
          "mapbox": {
           "style": "light"
          },
          "paper_bgcolor": "white",
          "plot_bgcolor": "#E5ECF6",
          "polar": {
           "angularaxis": {
            "gridcolor": "white",
            "linecolor": "white",
            "ticks": ""
           },
           "bgcolor": "#E5ECF6",
           "radialaxis": {
            "gridcolor": "white",
            "linecolor": "white",
            "ticks": ""
           }
          },
          "scene": {
           "xaxis": {
            "backgroundcolor": "#E5ECF6",
            "gridcolor": "white",
            "gridwidth": 2,
            "linecolor": "white",
            "showbackground": true,
            "ticks": "",
            "zerolinecolor": "white"
           },
           "yaxis": {
            "backgroundcolor": "#E5ECF6",
            "gridcolor": "white",
            "gridwidth": 2,
            "linecolor": "white",
            "showbackground": true,
            "ticks": "",
            "zerolinecolor": "white"
           },
           "zaxis": {
            "backgroundcolor": "#E5ECF6",
            "gridcolor": "white",
            "gridwidth": 2,
            "linecolor": "white",
            "showbackground": true,
            "ticks": "",
            "zerolinecolor": "white"
           }
          },
          "shapedefaults": {
           "line": {
            "color": "#2a3f5f"
           }
          },
          "ternary": {
           "aaxis": {
            "gridcolor": "white",
            "linecolor": "white",
            "ticks": ""
           },
           "baxis": {
            "gridcolor": "white",
            "linecolor": "white",
            "ticks": ""
           },
           "bgcolor": "#E5ECF6",
           "caxis": {
            "gridcolor": "white",
            "linecolor": "white",
            "ticks": ""
           }
          },
          "title": {
           "x": 0.05
          },
          "xaxis": {
           "automargin": true,
           "gridcolor": "white",
           "linecolor": "white",
           "ticks": "",
           "title": {
            "standoff": 15
           },
           "zerolinecolor": "white",
           "zerolinewidth": 2
          },
          "yaxis": {
           "automargin": true,
           "gridcolor": "white",
           "linecolor": "white",
           "ticks": "",
           "title": {
            "standoff": 15
           },
           "zerolinecolor": "white",
           "zerolinewidth": 2
          }
         }
        },
        "xaxis": {
         "anchor": "y",
         "domain": [
          0,
          1
         ],
         "title": {
          "text": "pca"
         }
        },
        "yaxis": {
         "anchor": "x",
         "domain": [
          0,
          1
         ],
         "title": {
          "text": "sv"
         }
        }
       }
      },
      "text/html": [
       "<div>                            <div id=\"0e5357f1-a1c6-4b36-8698-0414a207ca10\" class=\"plotly-graph-div\" style=\"height:525px; width:100%;\"></div>            <script type=\"text/javascript\">                require([\"plotly\"], function(Plotly) {                    window.PLOTLYENV=window.PLOTLYENV || {};                                    if (document.getElementById(\"0e5357f1-a1c6-4b36-8698-0414a207ca10\")) {                    Plotly.newPlot(                        \"0e5357f1-a1c6-4b36-8698-0414a207ca10\",                        [{\"alignmentgroup\":\"True\",\"hovertemplate\":\"pca=%{x}<br>sv=%{y}<extra></extra>\",\"legendgroup\":\"\",\"marker\":{\"color\":\"#636efa\",\"pattern\":{\"shape\":\"\"}},\"name\":\"\",\"offsetgroup\":\"\",\"orientation\":\"v\",\"showlegend\":false,\"textposition\":\"auto\",\"x\":[\"pca0\",\"pca1\",\"pca2\",\"pca3\",\"pca4\",\"pca5\",\"pca6\",\"pca7\",\"pca8\",\"pca9\",\"pca10\",\"pca11\",\"pca12\",\"pca13\",\"pca14\",\"pca15\",\"pca16\",\"pca17\",\"pca18\",\"pca19\",\"pca20\",\"pca21\",\"pca22\",\"pca23\",\"pca24\",\"pca25\",\"pca26\",\"pca27\",\"pca28\",\"pca29\",\"pca30\",\"pca31\",\"pca32\",\"pca33\",\"pca34\",\"pca35\",\"pca36\",\"pca37\",\"pca38\",\"pca39\",\"pca40\",\"pca41\",\"pca42\",\"pca43\",\"pca44\",\"pca45\",\"pca46\",\"pca47\",\"pca48\",\"pca49\"],\"xaxis\":\"x\",\"y\":[1378.5603048804812,1344.900060609993,1340.154622334184,1329.1507120406877,1327.1849557929065,1299.8264722603392,1285.8561505615053,1266.053812784268,1259.7602213539385,1255.296157564003,1242.398243422029,1235.908453492949,1224.5446220133492,1223.3270974459163,1216.231567997971,1204.9355694369146,1203.0619458619994,1194.802837712843,1183.296388165033,1178.4182640665538,1168.168875624947,1155.203766508802,1141.3216821744902,1135.3254273082755,1127.1748547029438,1119.1095181030776,1115.2711504910578,1106.6176821301826,1098.829356126523,1091.4346580541135,1080.2327808477523,1074.1899410888561,1065.765469285657,1060.2015878136847,1051.5329980986276,1047.4029727532493,1042.7929467200277,1033.958646662286,1025.1232570941233,1014.6274863309956,1009.42819061725,1000.8095551556507,990.4389171405556,985.0476354896662,976.3923210360256,969.6290193910049,962.2752191066866,947.3543470573536,942.1712713980586,929.2991519856341],\"yaxis\":\"y\",\"type\":\"bar\"}],                        {\"template\":{\"data\":{\"histogram2dcontour\":[{\"type\":\"histogram2dcontour\",\"colorbar\":{\"outlinewidth\":0,\"ticks\":\"\"},\"colorscale\":[[0.0,\"#0d0887\"],[0.1111111111111111,\"#46039f\"],[0.2222222222222222,\"#7201a8\"],[0.3333333333333333,\"#9c179e\"],[0.4444444444444444,\"#bd3786\"],[0.5555555555555556,\"#d8576b\"],[0.6666666666666666,\"#ed7953\"],[0.7777777777777778,\"#fb9f3a\"],[0.8888888888888888,\"#fdca26\"],[1.0,\"#f0f921\"]]}],\"choropleth\":[{\"type\":\"choropleth\",\"colorbar\":{\"outlinewidth\":0,\"ticks\":\"\"}}],\"histogram2d\":[{\"type\":\"histogram2d\",\"colorbar\":{\"outlinewidth\":0,\"ticks\":\"\"},\"colorscale\":[[0.0,\"#0d0887\"],[0.1111111111111111,\"#46039f\"],[0.2222222222222222,\"#7201a8\"],[0.3333333333333333,\"#9c179e\"],[0.4444444444444444,\"#bd3786\"],[0.5555555555555556,\"#d8576b\"],[0.6666666666666666,\"#ed7953\"],[0.7777777777777778,\"#fb9f3a\"],[0.8888888888888888,\"#fdca26\"],[1.0,\"#f0f921\"]]}],\"heatmap\":[{\"type\":\"heatmap\",\"colorbar\":{\"outlinewidth\":0,\"ticks\":\"\"},\"colorscale\":[[0.0,\"#0d0887\"],[0.1111111111111111,\"#46039f\"],[0.2222222222222222,\"#7201a8\"],[0.3333333333333333,\"#9c179e\"],[0.4444444444444444,\"#bd3786\"],[0.5555555555555556,\"#d8576b\"],[0.6666666666666666,\"#ed7953\"],[0.7777777777777778,\"#fb9f3a\"],[0.8888888888888888,\"#fdca26\"],[1.0,\"#f0f921\"]]}],\"heatmapgl\":[{\"type\":\"heatmapgl\",\"colorbar\":{\"outlinewidth\":0,\"ticks\":\"\"},\"colorscale\":[[0.0,\"#0d0887\"],[0.1111111111111111,\"#46039f\"],[0.2222222222222222,\"#7201a8\"],[0.3333333333333333,\"#9c179e\"],[0.4444444444444444,\"#bd3786\"],[0.5555555555555556,\"#d8576b\"],[0.6666666666666666,\"#ed7953\"],[0.7777777777777778,\"#fb9f3a\"],[0.8888888888888888,\"#fdca26\"],[1.0,\"#f0f921\"]]}],\"contourcarpet\":[{\"type\":\"contourcarpet\",\"colorbar\":{\"outlinewidth\":0,\"ticks\":\"\"}}],\"contour\":[{\"type\":\"contour\",\"colorbar\":{\"outlinewidth\":0,\"ticks\":\"\"},\"colorscale\":[[0.0,\"#0d0887\"],[0.1111111111111111,\"#46039f\"],[0.2222222222222222,\"#7201a8\"],[0.3333333333333333,\"#9c179e\"],[0.4444444444444444,\"#bd3786\"],[0.5555555555555556,\"#d8576b\"],[0.6666666666666666,\"#ed7953\"],[0.7777777777777778,\"#fb9f3a\"],[0.8888888888888888,\"#fdca26\"],[1.0,\"#f0f921\"]]}],\"surface\":[{\"type\":\"surface\",\"colorbar\":{\"outlinewidth\":0,\"ticks\":\"\"},\"colorscale\":[[0.0,\"#0d0887\"],[0.1111111111111111,\"#46039f\"],[0.2222222222222222,\"#7201a8\"],[0.3333333333333333,\"#9c179e\"],[0.4444444444444444,\"#bd3786\"],[0.5555555555555556,\"#d8576b\"],[0.6666666666666666,\"#ed7953\"],[0.7777777777777778,\"#fb9f3a\"],[0.8888888888888888,\"#fdca26\"],[1.0,\"#f0f921\"]]}],\"mesh3d\":[{\"type\":\"mesh3d\",\"colorbar\":{\"outlinewidth\":0,\"ticks\":\"\"}}],\"scatter\":[{\"fillpattern\":{\"fillmode\":\"overlay\",\"size\":10,\"solidity\":0.2},\"type\":\"scatter\"}],\"parcoords\":[{\"type\":\"parcoords\",\"line\":{\"colorbar\":{\"outlinewidth\":0,\"ticks\":\"\"}}}],\"scatterpolargl\":[{\"type\":\"scatterpolargl\",\"marker\":{\"colorbar\":{\"outlinewidth\":0,\"ticks\":\"\"}}}],\"bar\":[{\"error_x\":{\"color\":\"#2a3f5f\"},\"error_y\":{\"color\":\"#2a3f5f\"},\"marker\":{\"line\":{\"color\":\"#E5ECF6\",\"width\":0.5},\"pattern\":{\"fillmode\":\"overlay\",\"size\":10,\"solidity\":0.2}},\"type\":\"bar\"}],\"scattergeo\":[{\"type\":\"scattergeo\",\"marker\":{\"colorbar\":{\"outlinewidth\":0,\"ticks\":\"\"}}}],\"scatterpolar\":[{\"type\":\"scatterpolar\",\"marker\":{\"colorbar\":{\"outlinewidth\":0,\"ticks\":\"\"}}}],\"histogram\":[{\"marker\":{\"pattern\":{\"fillmode\":\"overlay\",\"size\":10,\"solidity\":0.2}},\"type\":\"histogram\"}],\"scattergl\":[{\"type\":\"scattergl\",\"marker\":{\"colorbar\":{\"outlinewidth\":0,\"ticks\":\"\"}}}],\"scatter3d\":[{\"type\":\"scatter3d\",\"line\":{\"colorbar\":{\"outlinewidth\":0,\"ticks\":\"\"}},\"marker\":{\"colorbar\":{\"outlinewidth\":0,\"ticks\":\"\"}}}],\"scattermapbox\":[{\"type\":\"scattermapbox\",\"marker\":{\"colorbar\":{\"outlinewidth\":0,\"ticks\":\"\"}}}],\"scatterternary\":[{\"type\":\"scatterternary\",\"marker\":{\"colorbar\":{\"outlinewidth\":0,\"ticks\":\"\"}}}],\"scattercarpet\":[{\"type\":\"scattercarpet\",\"marker\":{\"colorbar\":{\"outlinewidth\":0,\"ticks\":\"\"}}}],\"carpet\":[{\"aaxis\":{\"endlinecolor\":\"#2a3f5f\",\"gridcolor\":\"white\",\"linecolor\":\"white\",\"minorgridcolor\":\"white\",\"startlinecolor\":\"#2a3f5f\"},\"baxis\":{\"endlinecolor\":\"#2a3f5f\",\"gridcolor\":\"white\",\"linecolor\":\"white\",\"minorgridcolor\":\"white\",\"startlinecolor\":\"#2a3f5f\"},\"type\":\"carpet\"}],\"table\":[{\"cells\":{\"fill\":{\"color\":\"#EBF0F8\"},\"line\":{\"color\":\"white\"}},\"header\":{\"fill\":{\"color\":\"#C8D4E3\"},\"line\":{\"color\":\"white\"}},\"type\":\"table\"}],\"barpolar\":[{\"marker\":{\"line\":{\"color\":\"#E5ECF6\",\"width\":0.5},\"pattern\":{\"fillmode\":\"overlay\",\"size\":10,\"solidity\":0.2}},\"type\":\"barpolar\"}],\"pie\":[{\"automargin\":true,\"type\":\"pie\"}]},\"layout\":{\"autotypenumbers\":\"strict\",\"colorway\":[\"#636efa\",\"#EF553B\",\"#00cc96\",\"#ab63fa\",\"#FFA15A\",\"#19d3f3\",\"#FF6692\",\"#B6E880\",\"#FF97FF\",\"#FECB52\"],\"font\":{\"color\":\"#2a3f5f\"},\"hovermode\":\"closest\",\"hoverlabel\":{\"align\":\"left\"},\"paper_bgcolor\":\"white\",\"plot_bgcolor\":\"#E5ECF6\",\"polar\":{\"bgcolor\":\"#E5ECF6\",\"angularaxis\":{\"gridcolor\":\"white\",\"linecolor\":\"white\",\"ticks\":\"\"},\"radialaxis\":{\"gridcolor\":\"white\",\"linecolor\":\"white\",\"ticks\":\"\"}},\"ternary\":{\"bgcolor\":\"#E5ECF6\",\"aaxis\":{\"gridcolor\":\"white\",\"linecolor\":\"white\",\"ticks\":\"\"},\"baxis\":{\"gridcolor\":\"white\",\"linecolor\":\"white\",\"ticks\":\"\"},\"caxis\":{\"gridcolor\":\"white\",\"linecolor\":\"white\",\"ticks\":\"\"}},\"coloraxis\":{\"colorbar\":{\"outlinewidth\":0,\"ticks\":\"\"}},\"colorscale\":{\"sequential\":[[0.0,\"#0d0887\"],[0.1111111111111111,\"#46039f\"],[0.2222222222222222,\"#7201a8\"],[0.3333333333333333,\"#9c179e\"],[0.4444444444444444,\"#bd3786\"],[0.5555555555555556,\"#d8576b\"],[0.6666666666666666,\"#ed7953\"],[0.7777777777777778,\"#fb9f3a\"],[0.8888888888888888,\"#fdca26\"],[1.0,\"#f0f921\"]],\"sequentialminus\":[[0.0,\"#0d0887\"],[0.1111111111111111,\"#46039f\"],[0.2222222222222222,\"#7201a8\"],[0.3333333333333333,\"#9c179e\"],[0.4444444444444444,\"#bd3786\"],[0.5555555555555556,\"#d8576b\"],[0.6666666666666666,\"#ed7953\"],[0.7777777777777778,\"#fb9f3a\"],[0.8888888888888888,\"#fdca26\"],[1.0,\"#f0f921\"]],\"diverging\":[[0,\"#8e0152\"],[0.1,\"#c51b7d\"],[0.2,\"#de77ae\"],[0.3,\"#f1b6da\"],[0.4,\"#fde0ef\"],[0.5,\"#f7f7f7\"],[0.6,\"#e6f5d0\"],[0.7,\"#b8e186\"],[0.8,\"#7fbc41\"],[0.9,\"#4d9221\"],[1,\"#276419\"]]},\"xaxis\":{\"gridcolor\":\"white\",\"linecolor\":\"white\",\"ticks\":\"\",\"title\":{\"standoff\":15},\"zerolinecolor\":\"white\",\"automargin\":true,\"zerolinewidth\":2},\"yaxis\":{\"gridcolor\":\"white\",\"linecolor\":\"white\",\"ticks\":\"\",\"title\":{\"standoff\":15},\"zerolinecolor\":\"white\",\"automargin\":true,\"zerolinewidth\":2},\"scene\":{\"xaxis\":{\"backgroundcolor\":\"#E5ECF6\",\"gridcolor\":\"white\",\"linecolor\":\"white\",\"showbackground\":true,\"ticks\":\"\",\"zerolinecolor\":\"white\",\"gridwidth\":2},\"yaxis\":{\"backgroundcolor\":\"#E5ECF6\",\"gridcolor\":\"white\",\"linecolor\":\"white\",\"showbackground\":true,\"ticks\":\"\",\"zerolinecolor\":\"white\",\"gridwidth\":2},\"zaxis\":{\"backgroundcolor\":\"#E5ECF6\",\"gridcolor\":\"white\",\"linecolor\":\"white\",\"showbackground\":true,\"ticks\":\"\",\"zerolinecolor\":\"white\",\"gridwidth\":2}},\"shapedefaults\":{\"line\":{\"color\":\"#2a3f5f\"}},\"annotationdefaults\":{\"arrowcolor\":\"#2a3f5f\",\"arrowhead\":0,\"arrowwidth\":1},\"geo\":{\"bgcolor\":\"white\",\"landcolor\":\"#E5ECF6\",\"subunitcolor\":\"white\",\"showland\":true,\"showlakes\":true,\"lakecolor\":\"white\"},\"title\":{\"x\":0.05},\"mapbox\":{\"style\":\"light\"}}},\"xaxis\":{\"anchor\":\"y\",\"domain\":[0.0,1.0],\"title\":{\"text\":\"pca\"}},\"yaxis\":{\"anchor\":\"x\",\"domain\":[0.0,1.0],\"title\":{\"text\":\"sv\"}},\"legend\":{\"tracegroupgap\":0},\"margin\":{\"t\":60},\"barmode\":\"relative\"},                        {\"responsive\": true}                    ).then(function(){\n",
       "                            \n",
       "var gd = document.getElementById('0e5357f1-a1c6-4b36-8698-0414a207ca10');\n",
       "var x = new MutationObserver(function (mutations, observer) {{\n",
       "        var display = window.getComputedStyle(gd).display;\n",
       "        if (!display || display === 'none') {{\n",
       "            console.log([gd, 'removed!']);\n",
       "            Plotly.purge(gd);\n",
       "            observer.disconnect();\n",
       "        }}\n",
       "}});\n",
       "\n",
       "// Listen for the removal of the full notebook cells\n",
       "var notebookContainer = gd.closest('#notebook-container');\n",
       "if (notebookContainer) {{\n",
       "    x.observe(notebookContainer, {childList: true});\n",
       "}}\n",
       "\n",
       "// Listen for the clearing of the current output cell\n",
       "var outputEl = gd.closest('.output');\n",
       "if (outputEl) {{\n",
       "    x.observe(outputEl, {childList: true});\n",
       "}}\n",
       "\n",
       "                        })                };                });            </script>        </div>"
      ]
     },
     "metadata": {},
     "output_type": "display_data"
    }
   ],
   "source": [
    "pca=PCA(n_components=50)\n",
    "pca.fit(X_norm, y_train)\n",
    "\n",
    "df = pd.DataFrame({\"pca\":pca.get_feature_names_out(),\"sv\":pca.singular_values_})\n",
    "fig = px.bar(df, x='pca', y='sv')\n",
    "fig.show()"
   ]
  },
  {
   "cell_type": "code",
   "execution_count": 15,
   "id": "0f802749",
   "metadata": {},
   "outputs": [
    {
     "data": {
      "text/html": [
       "<style>#sk-container-id-2 {color: black;background-color: white;}#sk-container-id-2 pre{padding: 0;}#sk-container-id-2 div.sk-toggleable {background-color: white;}#sk-container-id-2 label.sk-toggleable__label {cursor: pointer;display: block;width: 100%;margin-bottom: 0;padding: 0.3em;box-sizing: border-box;text-align: center;}#sk-container-id-2 label.sk-toggleable__label-arrow:before {content: \"▸\";float: left;margin-right: 0.25em;color: #696969;}#sk-container-id-2 label.sk-toggleable__label-arrow:hover:before {color: black;}#sk-container-id-2 div.sk-estimator:hover label.sk-toggleable__label-arrow:before {color: black;}#sk-container-id-2 div.sk-toggleable__content {max-height: 0;max-width: 0;overflow: hidden;text-align: left;background-color: #f0f8ff;}#sk-container-id-2 div.sk-toggleable__content pre {margin: 0.2em;color: black;border-radius: 0.25em;background-color: #f0f8ff;}#sk-container-id-2 input.sk-toggleable__control:checked~div.sk-toggleable__content {max-height: 200px;max-width: 100%;overflow: auto;}#sk-container-id-2 input.sk-toggleable__control:checked~label.sk-toggleable__label-arrow:before {content: \"▾\";}#sk-container-id-2 div.sk-estimator input.sk-toggleable__control:checked~label.sk-toggleable__label {background-color: #d4ebff;}#sk-container-id-2 div.sk-label input.sk-toggleable__control:checked~label.sk-toggleable__label {background-color: #d4ebff;}#sk-container-id-2 input.sk-hidden--visually {border: 0;clip: rect(1px 1px 1px 1px);clip: rect(1px, 1px, 1px, 1px);height: 1px;margin: -1px;overflow: hidden;padding: 0;position: absolute;width: 1px;}#sk-container-id-2 div.sk-estimator {font-family: monospace;background-color: #f0f8ff;border: 1px dotted black;border-radius: 0.25em;box-sizing: border-box;margin-bottom: 0.5em;}#sk-container-id-2 div.sk-estimator:hover {background-color: #d4ebff;}#sk-container-id-2 div.sk-parallel-item::after {content: \"\";width: 100%;border-bottom: 1px solid gray;flex-grow: 1;}#sk-container-id-2 div.sk-label:hover label.sk-toggleable__label {background-color: #d4ebff;}#sk-container-id-2 div.sk-serial::before {content: \"\";position: absolute;border-left: 1px solid gray;box-sizing: border-box;top: 0;bottom: 0;left: 50%;z-index: 0;}#sk-container-id-2 div.sk-serial {display: flex;flex-direction: column;align-items: center;background-color: white;padding-right: 0.2em;padding-left: 0.2em;position: relative;}#sk-container-id-2 div.sk-item {position: relative;z-index: 1;}#sk-container-id-2 div.sk-parallel {display: flex;align-items: stretch;justify-content: center;background-color: white;position: relative;}#sk-container-id-2 div.sk-item::before, #sk-container-id-2 div.sk-parallel-item::before {content: \"\";position: absolute;border-left: 1px solid gray;box-sizing: border-box;top: 0;bottom: 0;left: 50%;z-index: -1;}#sk-container-id-2 div.sk-parallel-item {display: flex;flex-direction: column;z-index: 1;position: relative;background-color: white;}#sk-container-id-2 div.sk-parallel-item:first-child::after {align-self: flex-end;width: 50%;}#sk-container-id-2 div.sk-parallel-item:last-child::after {align-self: flex-start;width: 50%;}#sk-container-id-2 div.sk-parallel-item:only-child::after {width: 0;}#sk-container-id-2 div.sk-dashed-wrapped {border: 1px dashed gray;margin: 0 0.4em 0.5em 0.4em;box-sizing: border-box;padding-bottom: 0.4em;background-color: white;}#sk-container-id-2 div.sk-label label {font-family: monospace;font-weight: bold;display: inline-block;line-height: 1.2em;}#sk-container-id-2 div.sk-label-container {text-align: center;}#sk-container-id-2 div.sk-container {/* jupyter's `normalize.less` sets `[hidden] { display: none; }` but bootstrap.min.css set `[hidden] { display: none !important; }` so we also need the `!important` here to be able to override the default hidden behavior on the sphinx rendered scikit-learn.org. See: https://github.com/scikit-learn/scikit-learn/issues/21755 */display: inline-block !important;position: relative;}#sk-container-id-2 div.sk-text-repr-fallback {display: none;}</style><div id=\"sk-container-id-2\" class=\"sk-top-container\"><div class=\"sk-text-repr-fallback\"><pre>LinearRegression()</pre><b>In a Jupyter environment, please rerun this cell to show the HTML representation or trust the notebook. <br />On GitHub, the HTML representation is unable to render, please try loading this page with nbviewer.org.</b></div><div class=\"sk-container\" hidden><div class=\"sk-item\"><div class=\"sk-estimator sk-toggleable\"><input class=\"sk-toggleable__control sk-hidden--visually\" id=\"sk-estimator-id-2\" type=\"checkbox\" checked><label for=\"sk-estimator-id-2\" class=\"sk-toggleable__label sk-toggleable__label-arrow\">LinearRegression</label><div class=\"sk-toggleable__content\"><pre>LinearRegression()</pre></div></div></div></div></div>"
      ],
      "text/plain": [
       "LinearRegression()"
      ]
     },
     "execution_count": 15,
     "metadata": {},
     "output_type": "execute_result"
    }
   ],
   "source": [
    "X_pca = pca.transform(X_norm)\n",
    "model = LinearRegression()\n",
    "model.fit(X_pca, y_train)"
   ]
  },
  {
   "cell_type": "code",
   "execution_count": 16,
   "id": "7cb0d8c9",
   "metadata": {},
   "outputs": [
    {
     "ename": "ValueError",
     "evalue": "Input X contains NaN.\nPCA does not accept missing values encoded as NaN natively. For supervised learning, you might want to consider sklearn.ensemble.HistGradientBoostingClassifier and Regressor which accept missing values encoded as NaNs natively. Alternatively, it is possible to preprocess the data, for instance by using an imputer transformer in a pipeline or drop samples with missing values. See https://scikit-learn.org/stable/modules/impute.html You can find a list of all estimators that handle NaN values at the following page: https://scikit-learn.org/stable/modules/impute.html#estimators-that-handle-nan-values",
     "output_type": "error",
     "traceback": [
      "\u001b[0;31m---------------------------------------------------------------------------\u001b[0m",
      "\u001b[0;31mValueError\u001b[0m                                Traceback (most recent call last)",
      "Input \u001b[0;32mIn [16]\u001b[0m, in \u001b[0;36m<cell line: 1>\u001b[0;34m()\u001b[0m\n\u001b[0;32m----> 1\u001b[0m y_pred \u001b[38;5;241m=\u001b[39m model\u001b[38;5;241m.\u001b[39mpredict(\u001b[43mpca\u001b[49m\u001b[38;5;241;43m.\u001b[39;49m\u001b[43mtransform\u001b[49m\u001b[43m(\u001b[49m\u001b[43mX_test\u001b[49m\u001b[43m)\u001b[49m)\n\u001b[1;32m      2\u001b[0m score \u001b[38;5;241m=\u001b[39m r2_score(y_test, y_pred)\n\u001b[1;32m      3\u001b[0m score\n",
      "File \u001b[0;32m/opt/anaconda3/envs/aml/lib/python3.10/site-packages/sklearn/decomposition/_base.py:120\u001b[0m, in \u001b[0;36m_BasePCA.transform\u001b[0;34m(self, X)\u001b[0m\n\u001b[1;32m    101\u001b[0m \u001b[38;5;124;03m\"\"\"Apply dimensionality reduction to X.\u001b[39;00m\n\u001b[1;32m    102\u001b[0m \n\u001b[1;32m    103\u001b[0m \u001b[38;5;124;03mX is projected on the first principal components previously extracted\u001b[39;00m\n\u001b[0;32m   (...)\u001b[0m\n\u001b[1;32m    116\u001b[0m \u001b[38;5;124;03m    is the number of samples and `n_components` is the number of the components.\u001b[39;00m\n\u001b[1;32m    117\u001b[0m \u001b[38;5;124;03m\"\"\"\u001b[39;00m\n\u001b[1;32m    118\u001b[0m check_is_fitted(\u001b[38;5;28mself\u001b[39m)\n\u001b[0;32m--> 120\u001b[0m X \u001b[38;5;241m=\u001b[39m \u001b[38;5;28;43mself\u001b[39;49m\u001b[38;5;241;43m.\u001b[39;49m\u001b[43m_validate_data\u001b[49m\u001b[43m(\u001b[49m\u001b[43mX\u001b[49m\u001b[43m,\u001b[49m\u001b[43m \u001b[49m\u001b[43mdtype\u001b[49m\u001b[38;5;241;43m=\u001b[39;49m\u001b[43m[\u001b[49m\u001b[43mnp\u001b[49m\u001b[38;5;241;43m.\u001b[39;49m\u001b[43mfloat64\u001b[49m\u001b[43m,\u001b[49m\u001b[43m \u001b[49m\u001b[43mnp\u001b[49m\u001b[38;5;241;43m.\u001b[39;49m\u001b[43mfloat32\u001b[49m\u001b[43m]\u001b[49m\u001b[43m,\u001b[49m\u001b[43m \u001b[49m\u001b[43mreset\u001b[49m\u001b[38;5;241;43m=\u001b[39;49m\u001b[38;5;28;43;01mFalse\u001b[39;49;00m\u001b[43m)\u001b[49m\n\u001b[1;32m    121\u001b[0m \u001b[38;5;28;01mif\u001b[39;00m \u001b[38;5;28mself\u001b[39m\u001b[38;5;241m.\u001b[39mmean_ \u001b[38;5;129;01mis\u001b[39;00m \u001b[38;5;129;01mnot\u001b[39;00m \u001b[38;5;28;01mNone\u001b[39;00m:\n\u001b[1;32m    122\u001b[0m     X \u001b[38;5;241m=\u001b[39m X \u001b[38;5;241m-\u001b[39m \u001b[38;5;28mself\u001b[39m\u001b[38;5;241m.\u001b[39mmean_\n",
      "File \u001b[0;32m/opt/anaconda3/envs/aml/lib/python3.10/site-packages/sklearn/base.py:577\u001b[0m, in \u001b[0;36mBaseEstimator._validate_data\u001b[0;34m(self, X, y, reset, validate_separately, **check_params)\u001b[0m\n\u001b[1;32m    575\u001b[0m     \u001b[38;5;28;01mraise\u001b[39;00m \u001b[38;5;167;01mValueError\u001b[39;00m(\u001b[38;5;124m\"\u001b[39m\u001b[38;5;124mValidation should be done on X, y or both.\u001b[39m\u001b[38;5;124m\"\u001b[39m)\n\u001b[1;32m    576\u001b[0m \u001b[38;5;28;01melif\u001b[39;00m \u001b[38;5;129;01mnot\u001b[39;00m no_val_X \u001b[38;5;129;01mand\u001b[39;00m no_val_y:\n\u001b[0;32m--> 577\u001b[0m     X \u001b[38;5;241m=\u001b[39m \u001b[43mcheck_array\u001b[49m\u001b[43m(\u001b[49m\u001b[43mX\u001b[49m\u001b[43m,\u001b[49m\u001b[43m \u001b[49m\u001b[43minput_name\u001b[49m\u001b[38;5;241;43m=\u001b[39;49m\u001b[38;5;124;43m\"\u001b[39;49m\u001b[38;5;124;43mX\u001b[39;49m\u001b[38;5;124;43m\"\u001b[39;49m\u001b[43m,\u001b[49m\u001b[43m \u001b[49m\u001b[38;5;241;43m*\u001b[39;49m\u001b[38;5;241;43m*\u001b[39;49m\u001b[43mcheck_params\u001b[49m\u001b[43m)\u001b[49m\n\u001b[1;32m    578\u001b[0m     out \u001b[38;5;241m=\u001b[39m X\n\u001b[1;32m    579\u001b[0m \u001b[38;5;28;01melif\u001b[39;00m no_val_X \u001b[38;5;129;01mand\u001b[39;00m \u001b[38;5;129;01mnot\u001b[39;00m no_val_y:\n",
      "File \u001b[0;32m/opt/anaconda3/envs/aml/lib/python3.10/site-packages/sklearn/utils/validation.py:899\u001b[0m, in \u001b[0;36mcheck_array\u001b[0;34m(array, accept_sparse, accept_large_sparse, dtype, order, copy, force_all_finite, ensure_2d, allow_nd, ensure_min_samples, ensure_min_features, estimator, input_name)\u001b[0m\n\u001b[1;32m    893\u001b[0m         \u001b[38;5;28;01mraise\u001b[39;00m \u001b[38;5;167;01mValueError\u001b[39;00m(\n\u001b[1;32m    894\u001b[0m             \u001b[38;5;124m\"\u001b[39m\u001b[38;5;124mFound array with dim \u001b[39m\u001b[38;5;132;01m%d\u001b[39;00m\u001b[38;5;124m. \u001b[39m\u001b[38;5;132;01m%s\u001b[39;00m\u001b[38;5;124m expected <= 2.\u001b[39m\u001b[38;5;124m\"\u001b[39m\n\u001b[1;32m    895\u001b[0m             \u001b[38;5;241m%\u001b[39m (array\u001b[38;5;241m.\u001b[39mndim, estimator_name)\n\u001b[1;32m    896\u001b[0m         )\n\u001b[1;32m    898\u001b[0m     \u001b[38;5;28;01mif\u001b[39;00m force_all_finite:\n\u001b[0;32m--> 899\u001b[0m         \u001b[43m_assert_all_finite\u001b[49m\u001b[43m(\u001b[49m\n\u001b[1;32m    900\u001b[0m \u001b[43m            \u001b[49m\u001b[43marray\u001b[49m\u001b[43m,\u001b[49m\n\u001b[1;32m    901\u001b[0m \u001b[43m            \u001b[49m\u001b[43minput_name\u001b[49m\u001b[38;5;241;43m=\u001b[39;49m\u001b[43minput_name\u001b[49m\u001b[43m,\u001b[49m\n\u001b[1;32m    902\u001b[0m \u001b[43m            \u001b[49m\u001b[43mestimator_name\u001b[49m\u001b[38;5;241;43m=\u001b[39;49m\u001b[43mestimator_name\u001b[49m\u001b[43m,\u001b[49m\n\u001b[1;32m    903\u001b[0m \u001b[43m            \u001b[49m\u001b[43mallow_nan\u001b[49m\u001b[38;5;241;43m=\u001b[39;49m\u001b[43mforce_all_finite\u001b[49m\u001b[43m \u001b[49m\u001b[38;5;241;43m==\u001b[39;49m\u001b[43m \u001b[49m\u001b[38;5;124;43m\"\u001b[39;49m\u001b[38;5;124;43mallow-nan\u001b[39;49m\u001b[38;5;124;43m\"\u001b[39;49m\u001b[43m,\u001b[49m\n\u001b[1;32m    904\u001b[0m \u001b[43m        \u001b[49m\u001b[43m)\u001b[49m\n\u001b[1;32m    906\u001b[0m \u001b[38;5;28;01mif\u001b[39;00m ensure_min_samples \u001b[38;5;241m>\u001b[39m \u001b[38;5;241m0\u001b[39m:\n\u001b[1;32m    907\u001b[0m     n_samples \u001b[38;5;241m=\u001b[39m _num_samples(array)\n",
      "File \u001b[0;32m/opt/anaconda3/envs/aml/lib/python3.10/site-packages/sklearn/utils/validation.py:146\u001b[0m, in \u001b[0;36m_assert_all_finite\u001b[0;34m(X, allow_nan, msg_dtype, estimator_name, input_name)\u001b[0m\n\u001b[1;32m    124\u001b[0m         \u001b[38;5;28;01mif\u001b[39;00m (\n\u001b[1;32m    125\u001b[0m             \u001b[38;5;129;01mnot\u001b[39;00m allow_nan\n\u001b[1;32m    126\u001b[0m             \u001b[38;5;129;01mand\u001b[39;00m estimator_name\n\u001b[0;32m   (...)\u001b[0m\n\u001b[1;32m    130\u001b[0m             \u001b[38;5;66;03m# Improve the error message on how to handle missing values in\u001b[39;00m\n\u001b[1;32m    131\u001b[0m             \u001b[38;5;66;03m# scikit-learn.\u001b[39;00m\n\u001b[1;32m    132\u001b[0m             msg_err \u001b[38;5;241m+\u001b[39m\u001b[38;5;241m=\u001b[39m (\n\u001b[1;32m    133\u001b[0m                 \u001b[38;5;124mf\u001b[39m\u001b[38;5;124m\"\u001b[39m\u001b[38;5;130;01m\\n\u001b[39;00m\u001b[38;5;132;01m{\u001b[39;00mestimator_name\u001b[38;5;132;01m}\u001b[39;00m\u001b[38;5;124m does not accept missing values\u001b[39m\u001b[38;5;124m\"\u001b[39m\n\u001b[1;32m    134\u001b[0m                 \u001b[38;5;124m\"\u001b[39m\u001b[38;5;124m encoded as NaN natively. For supervised learning, you might want\u001b[39m\u001b[38;5;124m\"\u001b[39m\n\u001b[0;32m   (...)\u001b[0m\n\u001b[1;32m    144\u001b[0m                 \u001b[38;5;124m\"\u001b[39m\u001b[38;5;124m#estimators-that-handle-nan-values\u001b[39m\u001b[38;5;124m\"\u001b[39m\n\u001b[1;32m    145\u001b[0m             )\n\u001b[0;32m--> 146\u001b[0m         \u001b[38;5;28;01mraise\u001b[39;00m \u001b[38;5;167;01mValueError\u001b[39;00m(msg_err)\n\u001b[1;32m    148\u001b[0m \u001b[38;5;66;03m# for object dtype data, we only check for NaNs (GH-13254)\u001b[39;00m\n\u001b[1;32m    149\u001b[0m \u001b[38;5;28;01melif\u001b[39;00m X\u001b[38;5;241m.\u001b[39mdtype \u001b[38;5;241m==\u001b[39m np\u001b[38;5;241m.\u001b[39mdtype(\u001b[38;5;124m\"\u001b[39m\u001b[38;5;124mobject\u001b[39m\u001b[38;5;124m\"\u001b[39m) \u001b[38;5;129;01mand\u001b[39;00m \u001b[38;5;129;01mnot\u001b[39;00m allow_nan:\n",
      "\u001b[0;31mValueError\u001b[0m: Input X contains NaN.\nPCA does not accept missing values encoded as NaN natively. For supervised learning, you might want to consider sklearn.ensemble.HistGradientBoostingClassifier and Regressor which accept missing values encoded as NaNs natively. Alternatively, it is possible to preprocess the data, for instance by using an imputer transformer in a pipeline or drop samples with missing values. See https://scikit-learn.org/stable/modules/impute.html You can find a list of all estimators that handle NaN values at the following page: https://scikit-learn.org/stable/modules/impute.html#estimators-that-handle-nan-values"
     ]
    }
   ],
   "source": [
    "y_pred = model.predict(pca.transform(X_test))\n",
    "score = r2_score(y_test, y_pred)\n",
    "score"
   ]
  },
  {
   "cell_type": "code",
   "execution_count": null,
   "id": "f2bf880b",
   "metadata": {},
   "outputs": [],
   "source": [
    "plt.figure(figsize=(8,8))\n",
    "plt.bar(pca.get_feature_names_out(),pca.singular_values_)\n",
    "plt.show()"
   ]
  },
  {
   "cell_type": "markdown",
   "id": "e44d2997",
   "metadata": {},
   "source": [
    " "
   ]
  }
 ],
 "metadata": {
  "kernelspec": {
   "display_name": "Python 3.10.0 ('aml')",
   "language": "python",
   "name": "python3"
  },
  "language_info": {
   "codemirror_mode": {
    "name": "ipython",
    "version": 3
   },
   "file_extension": ".py",
   "mimetype": "text/x-python",
   "name": "python",
   "nbconvert_exporter": "python",
   "pygments_lexer": "ipython3",
   "version": "3.10.0"
  },
  "vscode": {
   "interpreter": {
    "hash": "53205f1a5bceb014cede6b4cb20e924585cbbcf89cb486efb59ab5521987e362"
   }
  }
 },
 "nbformat": 4,
 "nbformat_minor": 5
}
