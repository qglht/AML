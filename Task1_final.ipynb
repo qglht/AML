{
 "cells": [
  {
   "cell_type": "markdown",
   "metadata": {},
   "source": [
    "# Project 1 - Aurèle Bohbot, Quentin Guilhot, Yanis Tournier"
   ]
  },
  {
   "cell_type": "markdown",
   "metadata": {},
   "source": [
    "## Loading used libraries"
   ]
  },
  {
   "cell_type": "code",
   "execution_count": 7,
   "metadata": {},
   "outputs": [],
   "source": [
    "import pandas as pd\n",
    "import numpy as np\n",
    "import matplotlib.pyplot as plt\n",
    "import sklearn as skl\n",
    "from numpy import where\n",
    "from sklearn.model_selection import train_test_split\n",
    "from sklearn.metrics import r2_score\n",
    "from collections import Counter\n",
    "from sklearn.feature_selection import SelectKBest, f_regression\n",
    "from sklearn.tree import ExtraTreeRegressor\n",
    "from sklearn.ensemble import RandomForestRegressor, GradientBoostingRegressor,RandomForestClassifier, ExtraTreesRegressor, AdaBoostRegressor, VotingRegressor, HistGradientBoostingRegressor\n",
    "from sklearn.feature_selection import RFE\n",
    "from sklearn.svm import SVR, LinearSVC, SVC, LinearSVR\n",
    "from sklearn.covariance import EllipticEnvelope\n",
    "from sklearn.neighbors import LocalOutlierFactor\n",
    "from sklearn.preprocessing import StandardScaler\n"
   ]
  },
  {
   "cell_type": "markdown",
   "metadata": {},
   "source": [
    "## Data Extraction:"
   ]
  },
  {
   "cell_type": "code",
   "execution_count": 8,
   "metadata": {},
   "outputs": [],
   "source": [
    "X = pd.read_csv('X_train.csv')\n",
    "Xt = pd.read_csv('X_test.csv')\n",
    "y = pd.read_csv('y_train.csv')\n",
    "to_drop = ['x104', 'x129', 'x489', 'x530', 'id']\n",
    "X_train_final = X.drop(columns=to_drop)\n",
    "X_test_final = Xt.drop(columns=to_drop)\n",
    "y_train_final = y.drop(columns=['id']) "
   ]
  },
  {
   "cell_type": "markdown",
   "metadata": {},
   "source": [
    "## Data cleaning:"
   ]
  },
  {
   "cell_type": "code",
   "execution_count": 9,
   "metadata": {},
   "outputs": [
    {
     "name": "stdout",
     "output_type": "stream",
     "text": [
      "(1212, 828) (776, 828)\n"
     ]
    }
   ],
   "source": [
    "## Filling NAN values with median\n",
    "y_train = y_train_final.fillna(y_train_final.median())\n",
    "X_train_filled = X_train_final.fillna(X_train_final.median())\n",
    "X_test_filled = X_test_final.fillna(X_test_final.median())\n",
    "\n",
    "## Normalizing data\n",
    "scaler = StandardScaler()\n",
    "scaler.fit(X_train_filled)\n",
    "X_train_norm = scaler.transform(X_train_filled)\n",
    "X_test_norm = scaler.transform(X_test_filled)\n",
    "print(X_train_norm.shape,X_test_norm.shape)"
   ]
  },
  {
   "cell_type": "markdown",
   "metadata": {},
   "source": [
    "## Feature selction:"
   ]
  },
  {
   "cell_type": "code",
   "execution_count": 10,
   "metadata": {},
   "outputs": [
    {
     "name": "stdout",
     "output_type": "stream",
     "text": [
      "(1212, 160) (776, 160)\n"
     ]
    },
    {
     "name": "stderr",
     "output_type": "stream",
     "text": [
      "/Users/yanistournier/opt/miniconda3/lib/python3.8/site-packages/sklearn/utils/validation.py:993: DataConversionWarning: A column-vector y was passed when a 1d array was expected. Please change the shape of y to (n_samples, ), for example using ravel().\n",
      "  y = column_or_1d(y, warn=True)\n"
     ]
    }
   ],
   "source": [
    "select_feature = SelectKBest(f_regression, k=(160)).fit(X_train_norm, y_train)\n",
    "X_train_new = select_feature.transform(X_train_norm)\n",
    "X_test_new = select_feature.transform(X_test_norm)\n",
    "print(X_train_new.shape,X_test_new.shape)"
   ]
  },
  {
   "cell_type": "markdown",
   "metadata": {},
   "source": [
    "## Outlier detection:"
   ]
  },
  {
   "cell_type": "code",
   "execution_count": null,
   "metadata": {},
   "outputs": [],
   "source": [
    "elenv = EllipticEnvelope(contamination=0.02)\n",
    "\n",
    "pred = elenv.fit_predict(X_train_new)\n",
    "anom_index=where(pred==-1)\n",
    "values_anom = X_train_new[anom_index]\n",
    "\n",
    "plt.scatter(X_train_new[:,0], X_train_new[:,1])\n",
    "plt.scatter(values_anom[:,0],values_anom[:,1], color='r')\n",
    "plt.show()\n",
    "print(values_anom.shape,X_train_new.shape)\n",
    "X_train_less_outliers = np.delete(X_train_new,anom_index, axis=0)\n",
    "Y_train_less_outliers = np.delete(y_train.values,anom_index, axis=0)\n",
    "print(X_train_less_outliers.shape,Y_train_less_outliers.shape)"
   ]
  },
  {
   "cell_type": "markdown",
   "metadata": {},
   "source": [
    "## Model training and predicting y:"
   ]
  },
  {
   "cell_type": "code",
   "execution_count": null,
   "metadata": {},
   "outputs": [],
   "source": [
    "r1 = GradientBoostingRegressor(loss='squared_error', learning_rate=0.1, n_estimators=1000, subsample=1.0, criterion='friedman_mse', min_samples_split=2, min_samples_leaf=1, min_weight_fraction_leaf=0.0, max_depth=5, min_impurity_decrease=0.0, init=None, random_state=None, max_features=None, alpha=0.9, verbose=0, max_leaf_nodes=None, warm_start=False, validation_fraction=0.1, n_iter_no_change=None, tol=0.0001, ccp_alpha=0.0)\n",
    "r2 = SVR(kernel='rbf', gamma=0.01, tol=0.001, C=1000, epsilon=0.01, shrinking=True, cache_size=2000, verbose=False, max_iter=-1)\n",
    "\n",
    "regr = VotingRegressor([('lr', r1), ('rf', r2)], weights=[2,3],n_jobs=None)\n",
    "regr.fit(X_train_less_outliers, Y_train_less_outliers)\n",
    "y_pred = regr.predict(X_test_new)"
   ]
  },
  {
   "cell_type": "markdown",
   "metadata": {},
   "source": [
    "## Exporting predictions:"
   ]
  },
  {
   "cell_type": "code",
   "execution_count": null,
   "metadata": {},
   "outputs": [],
   "source": [
    "pd.DataFrame({'id': [float(i) for i in range(y_pred.size)], 'y': y_pred}).to_csv('Prediction.csv')"
   ]
  }
 ],
 "metadata": {
  "kernelspec": {
   "display_name": "plaidml-venv",
   "language": "python",
   "name": "plaidml-venv"
  },
  "language_info": {
   "codemirror_mode": {
    "name": "ipython",
    "version": 3
   },
   "file_extension": ".py",
   "mimetype": "text/x-python",
   "name": "python",
   "nbconvert_exporter": "python",
   "pygments_lexer": "ipython3",
   "version": "3.8.12"
  },
  "orig_nbformat": 4,
  "vscode": {
   "interpreter": {
    "hash": "397704579725e15f5c7cb49fe5f0341eb7531c82d19f2c29d197e8b64ab5776b"
   }
  }
 },
 "nbformat": 4,
 "nbformat_minor": 2
}
